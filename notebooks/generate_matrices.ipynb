{
 "cells": [
  {
   "cell_type": "code",
   "execution_count": 1,
   "metadata": {},
   "outputs": [],
   "source": [
    "import os\n",
    "import pandas as pd\n",
    "import numpy as np\n",
    "from numba import jit\n",
    "\n",
    "\n",
    "mode = 'no_class'\n",
    "distance_functions = ['euclidian', 'city-block', 'chebyshev']\n",
    "input_path = os.path.join(\n",
    "    '../data/generated', 'avila-combined-{}.csv'.format(mode))\n",
    "\n",
    "\n",
    "data = pd.read_csv(input_path)\n",
    "data_array = data.to_numpy()\n",
    "\n",
    "\n",
    "\n",
    "\n"
   ]
  },
  {
   "cell_type": "code",
   "execution_count": 2,
   "metadata": {},
   "outputs": [
    {
     "data": {
      "text/html": [
       "<div>\n",
       "<style scoped>\n",
       "    .dataframe tbody tr th:only-of-type {\n",
       "        vertical-align: middle;\n",
       "    }\n",
       "\n",
       "    .dataframe tbody tr th {\n",
       "        vertical-align: top;\n",
       "    }\n",
       "\n",
       "    .dataframe thead th {\n",
       "        text-align: right;\n",
       "    }\n",
       "</style>\n",
       "<table border=\"1\" class=\"dataframe\">\n",
       "  <thead>\n",
       "    <tr style=\"text-align: right;\">\n",
       "      <th></th>\n",
       "      <th>0</th>\n",
       "      <th>1</th>\n",
       "      <th>2</th>\n",
       "      <th>3</th>\n",
       "      <th>4</th>\n",
       "      <th>5</th>\n",
       "      <th>6</th>\n",
       "      <th>7</th>\n",
       "      <th>8</th>\n",
       "      <th>9</th>\n",
       "    </tr>\n",
       "  </thead>\n",
       "  <tbody>\n",
       "    <tr>\n",
       "      <th>0</th>\n",
       "      <td>0.266074</td>\n",
       "      <td>-0.165620</td>\n",
       "      <td>0.320980</td>\n",
       "      <td>0.483299</td>\n",
       "      <td>0.172340</td>\n",
       "      <td>0.273364</td>\n",
       "      <td>0.371178</td>\n",
       "      <td>0.929823</td>\n",
       "      <td>0.251173</td>\n",
       "      <td>0.159345</td>\n",
       "    </tr>\n",
       "    <tr>\n",
       "      <th>1</th>\n",
       "      <td>0.130292</td>\n",
       "      <td>0.870736</td>\n",
       "      <td>-3.210528</td>\n",
       "      <td>0.062493</td>\n",
       "      <td>0.261718</td>\n",
       "      <td>1.436060</td>\n",
       "      <td>1.465940</td>\n",
       "      <td>0.636203</td>\n",
       "      <td>0.282354</td>\n",
       "      <td>0.515587</td>\n",
       "    </tr>\n",
       "    <tr>\n",
       "      <th>2</th>\n",
       "      <td>-0.116585</td>\n",
       "      <td>0.069915</td>\n",
       "      <td>0.068476</td>\n",
       "      <td>-0.783147</td>\n",
       "      <td>0.261718</td>\n",
       "      <td>0.439463</td>\n",
       "      <td>-0.081827</td>\n",
       "      <td>-0.888236</td>\n",
       "      <td>-0.123005</td>\n",
       "      <td>0.582939</td>\n",
       "    </tr>\n",
       "    <tr>\n",
       "      <th>3</th>\n",
       "      <td>0.031541</td>\n",
       "      <td>0.297600</td>\n",
       "      <td>-3.210528</td>\n",
       "      <td>-0.583590</td>\n",
       "      <td>-0.721442</td>\n",
       "      <td>-0.307984</td>\n",
       "      <td>0.710932</td>\n",
       "      <td>1.051693</td>\n",
       "      <td>0.594169</td>\n",
       "      <td>-0.533994</td>\n",
       "    </tr>\n",
       "    <tr>\n",
       "      <th>4</th>\n",
       "      <td>0.229043</td>\n",
       "      <td>0.807926</td>\n",
       "      <td>-0.052442</td>\n",
       "      <td>0.082634</td>\n",
       "      <td>0.261718</td>\n",
       "      <td>0.148790</td>\n",
       "      <td>0.635431</td>\n",
       "      <td>0.051062</td>\n",
       "      <td>0.032902</td>\n",
       "      <td>-0.086652</td>\n",
       "    </tr>\n",
       "  </tbody>\n",
       "</table>\n",
       "</div>"
      ],
      "text/plain": [
       "          0         1         2         3         4         5         6  \\\n",
       "0  0.266074 -0.165620  0.320980  0.483299  0.172340  0.273364  0.371178   \n",
       "1  0.130292  0.870736 -3.210528  0.062493  0.261718  1.436060  1.465940   \n",
       "2 -0.116585  0.069915  0.068476 -0.783147  0.261718  0.439463 -0.081827   \n",
       "3  0.031541  0.297600 -3.210528 -0.583590 -0.721442 -0.307984  0.710932   \n",
       "4  0.229043  0.807926 -0.052442  0.082634  0.261718  0.148790  0.635431   \n",
       "\n",
       "          7         8         9  \n",
       "0  0.929823  0.251173  0.159345  \n",
       "1  0.636203  0.282354  0.515587  \n",
       "2 -0.888236 -0.123005  0.582939  \n",
       "3  1.051693  0.594169 -0.533994  \n",
       "4  0.051062  0.032902 -0.086652  "
      ]
     },
     "execution_count": 2,
     "metadata": {},
     "output_type": "execute_result"
    }
   ],
   "source": [
    "data.head()"
   ]
  },
  {
   "cell_type": "code",
   "execution_count": null,
   "metadata": {},
   "outputs": [],
   "source": [
    "from scipy.spatial.distance import pdist, squareform"
   ]
  },
  {
   "cell_type": "code",
   "execution_count": 4,
   "metadata": {},
   "outputs": [],
   "source": [
    "metrics = ['euclidean','cityblock','chebyshev']"
   ]
  },
  {
   "cell_type": "code",
   "execution_count": 5,
   "metadata": {},
   "outputs": [],
   "source": [
    "def normalize_data(D):\n",
    "    l = ([p.sum(axis=1).argmin() for p in list(D)])\n",
    "    for i in range(len(l)):\n",
    "        print(D[i].shape)    \n",
    "    k = [ np.sum(np.asarray(D)[i][l[i]]) for i in range(len(l)) ]\n",
    "    k = np.asarray(k)[...,np.newaxis,np.newaxis]\n",
    "    X = np.divide(D,k)\n",
    "    return X"
   ]
  },
  {
   "cell_type": "code",
   "execution_count": 6,
   "metadata": {},
   "outputs": [
    {
     "ename": "KeyboardInterrupt",
     "evalue": "",
     "output_type": "error",
     "traceback": [
      "\u001b[0;31m---------------------------------------------------------------------------\u001b[0m",
      "\u001b[0;31mKeyboardInterrupt\u001b[0m                         Traceback (most recent call last)",
      "\u001b[1;32m/home/dclm/AM/AM-2022.1/notebooks/generate_matrices.ipynb Cell 6'\u001b[0m in \u001b[0;36m<cell line: 1>\u001b[0;34m()\u001b[0m\n\u001b[1;32m      <a href='vscode-notebook-cell://ssh-remote%2B177.36.14.116/home/dclm/AM/AM-2022.1/notebooks/generate_matrices.ipynb#ch0000005vscode-remote?line=0'>1</a>\u001b[0m \u001b[39mfor\u001b[39;00m metric \u001b[39min\u001b[39;00m metrics:\n\u001b[1;32m      <a href='vscode-notebook-cell://ssh-remote%2B177.36.14.116/home/dclm/AM/AM-2022.1/notebooks/generate_matrices.ipynb#ch0000005vscode-remote?line=1'>2</a>\u001b[0m     distance_matrix \u001b[39m=\u001b[39m pdist(data_array, metric\u001b[39m=\u001b[39mmetric)\n\u001b[0;32m----> <a href='vscode-notebook-cell://ssh-remote%2B177.36.14.116/home/dclm/AM/AM-2022.1/notebooks/generate_matrices.ipynb#ch0000005vscode-remote?line=2'>3</a>\u001b[0m     df1 \u001b[39m=\u001b[39m squareform(distance_matrix)\n\u001b[1;32m      <a href='vscode-notebook-cell://ssh-remote%2B177.36.14.116/home/dclm/AM/AM-2022.1/notebooks/generate_matrices.ipynb#ch0000005vscode-remote?line=3'>4</a>\u001b[0m     df1 \u001b[39m=\u001b[39m df1[np\u001b[39m.\u001b[39mnewaxis,\u001b[39m.\u001b[39m\u001b[39m.\u001b[39m\u001b[39m.\u001b[39m]\n\u001b[1;32m      <a href='vscode-notebook-cell://ssh-remote%2B177.36.14.116/home/dclm/AM/AM-2022.1/notebooks/generate_matrices.ipynb#ch0000005vscode-remote?line=4'>5</a>\u001b[0m     df1 \u001b[39m=\u001b[39m normalize_data(df1)[\u001b[39m0\u001b[39m]\n",
      "File \u001b[0;32m~/anaconda3/envs/AM2/lib/python3.10/site-packages/scipy/spatial/distance.py:2355\u001b[0m, in \u001b[0;36msquareform\u001b[0;34m(X, force, checks)\u001b[0m\n\u001b[1;32m   <a href='file:///home/dclm/anaconda3/envs/AM2/lib/python3.10/site-packages/scipy/spatial/distance.py?line=2351'>2352</a>\u001b[0m X \u001b[39m=\u001b[39m _copy_array_if_base_present(X)\n\u001b[1;32m   <a href='file:///home/dclm/anaconda3/envs/AM2/lib/python3.10/site-packages/scipy/spatial/distance.py?line=2353'>2354</a>\u001b[0m \u001b[39m# Fill in the values of the distance matrix.\u001b[39;00m\n\u001b[0;32m-> <a href='file:///home/dclm/anaconda3/envs/AM2/lib/python3.10/site-packages/scipy/spatial/distance.py?line=2354'>2355</a>\u001b[0m _distance_wrap\u001b[39m.\u001b[39;49mto_squareform_from_vector_wrap(M, X)\n\u001b[1;32m   <a href='file:///home/dclm/anaconda3/envs/AM2/lib/python3.10/site-packages/scipy/spatial/distance.py?line=2356'>2357</a>\u001b[0m \u001b[39m# Return the distance matrix.\u001b[39;00m\n\u001b[1;32m   <a href='file:///home/dclm/anaconda3/envs/AM2/lib/python3.10/site-packages/scipy/spatial/distance.py?line=2357'>2358</a>\u001b[0m \u001b[39mreturn\u001b[39;00m M\n",
      "\u001b[0;31mKeyboardInterrupt\u001b[0m: "
     ]
    }
   ],
   "source": [
    "for metric in metrics:\n",
    "    distance_matrix = pdist(data_array, metric=metric)\n",
    "    df1 = squareform(distance_matrix)\n",
    "    df1 = df1[np.newaxis,...]\n",
    "    df1 = normalize_data(df1)[0]\n",
    "    \n",
    "    output_path = os.path.join(\n",
    "    '../data/diss_matrices/{}/diss_matrix_{}.csv'.format(mode,metric))\n",
    "    \n",
    "    np.savetxt(output_path,df1,delimiter=',')\n",
    "\n",
    "    print(df1.diagonal())"
   ]
  },
  {
   "cell_type": "code",
   "execution_count": null,
   "metadata": {},
   "outputs": [],
   "source": [
    "output_path = os.path.join(\n",
    "    '../data/diss_matrices_{}/diss_matrix_{}.csv'.format(mode,metric))\n",
    "\n",
    "\n"
   ]
  }
 ],
 "metadata": {
  "interpreter": {
   "hash": "1cd7a76e48312c74ed59032ef7741bdd12dc3149840c88306086948f5eadd218"
  },
  "kernelspec": {
   "display_name": "Python 3.10.4 ('AM2')",
   "language": "python",
   "name": "python3"
  },
  "language_info": {
   "codemirror_mode": {
    "name": "ipython",
    "version": 3
   },
   "file_extension": ".py",
   "mimetype": "text/x-python",
   "name": "python",
   "nbconvert_exporter": "python",
   "pygments_lexer": "ipython3",
   "version": "3.10.4"
  },
  "orig_nbformat": 4
 },
 "nbformat": 4,
 "nbformat_minor": 2
}
