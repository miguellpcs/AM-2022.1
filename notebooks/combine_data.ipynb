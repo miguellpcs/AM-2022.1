{
 "cells": [
  {
   "cell_type": "code",
   "execution_count": 2,
   "metadata": {},
   "outputs": [],
   "source": [
    "import os\n",
    "import pandas as pd\n",
    "\n",
    "\n",
    "mode = 'no_class'\n",
    "output_path = os.path.join(\n",
    "    \"c:/\", 'Users/poldm/OneDrive/Documentos/GitHub/AM-2022.1/data/generated', 'avila-combined-{}.csv'.format(mode))\n",
    "tr_path = os.path.join(\n",
    "    'c:/', 'Users/poldm/OneDrive/Documentos/GitHub/AM-2022.1/data/original/avila-tr.txt')\n",
    "ts_path = os.path.join(\n",
    "    'c:/', 'Users/poldm/OneDrive/Documentos/GitHub/AM-2022.1/data/original/avila-ts.txt')\n",
    "\n",
    "avila_tr = pd.read_csv(tr_path, sep=\",\",header=None)\n",
    "avila_ts = pd.read_csv(ts_path, sep=\",\",header=None)\n",
    "\n",
    "if mode == 'no_class':\n",
    "    avila_tr = avila_tr.drop(10,axis=1)\n",
    "    avila_ts = avila_ts.drop(10,axis=1)\n",
    "\n",
    "merged = pd.concat([avila_tr,avila_ts],axis=0,ignore_index=True)\n"
   ]
  },
  {
   "cell_type": "code",
   "execution_count": 3,
   "metadata": {},
   "outputs": [],
   "source": [
    "merged.to_csv(output_path,index=False)\n"
   ]
  }
 ],
 "metadata": {
  "interpreter": {
   "hash": "45b03f647cf08674bd72271478c695a4aadbd56ac4d329e1e5b9672012199a5f"
  },
  "kernelspec": {
   "display_name": "Python 3.9.7 ('AM')",
   "language": "python",
   "name": "python3"
  },
  "language_info": {
   "codemirror_mode": {
    "name": "ipython",
    "version": 3
   },
   "file_extension": ".py",
   "mimetype": "text/x-python",
   "name": "python",
   "nbconvert_exporter": "python",
   "pygments_lexer": "ipython3",
   "version": "3.9.7"
  },
  "orig_nbformat": 4
 },
 "nbformat": 4,
 "nbformat_minor": 2
}
