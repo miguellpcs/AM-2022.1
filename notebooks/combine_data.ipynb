{
 "cells": [
  {
   "cell_type": "code",
   "execution_count": 2,
   "metadata": {},
   "outputs": [],
   "source": [
    "import os\n",
    "import pandas as pd\n",
    "\n",
    "\n",
    "mode = 'no_class'\n",
    "output_path = os.path.join(\n",
    ")\n",
    "tr_path = os.path.join(\n",
    "    'c:/', 'Users/poldm/OneDrive/Documentos/GitHub/AM-2022.1/data/original/avila-tr.txt')\n",
    "ts_path = os.path.join(\n",
    "    'c:/', 'Users/poldm/OneDrive/Documentos/GitHub/AM-2022.1/data/original/avila-ts.txt')\n",
    "\n",
    "avila_tr = pd.read_csv(tr_path, sep=\",\",header=None)\n",
    "avila_ts = pd.read_csv(ts_path, sep=\",\",header=None)\n",
    "\n",
    "if mode == 'no_class':\n",
    "    avila_tr = avila_tr.drop(10,axis=1)\n",
    "    avila_ts = avila_ts.drop(10,axis=1)\n",
    "\n",
    "merged = pd.concat([avila_tr,avila_ts],axis=0,ignore_index=True)\n"
   ]
  },
  {
   "cell_type": "code",
   "execution_count": 3,
   "metadata": {},
   "outputs": [],
   "source": [
    "merged.to_csv(output_path,index=False)\n"
   ]
  }
 ],
 "metadata": {
  "interpreter": {
   "hash": "4ea3c99179f62f9f13298969cb96e117dcd83123029efa839498056ce13523c9"
  },
  "kernelspec": {
   "display_name": "Python 3.8.3 64-bit ('anaconda3')",
   "language": "python",
   "name": "python3"
  },
  "language_info": {
   "codemirror_mode": {
    "name": "ipython",
    "version": 3
   },
   "file_extension": ".py",
   "mimetype": "text/x-python",
   "name": "python",
   "nbconvert_exporter": "python",
   "pygments_lexer": "ipython3",
   "version": "3.8.3"
  },
  "orig_nbformat": 4
 },
 "nbformat": 4,
 "nbformat_minor": 2
}
