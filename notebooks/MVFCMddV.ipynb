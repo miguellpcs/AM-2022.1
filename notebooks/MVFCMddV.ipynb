{
 "cells": [
  {
   "cell_type": "code",
   "execution_count": 2,
   "metadata": {},
   "outputs": [],
   "source": [
    "import numpy as np\n",
    "import os \n",
    "import pandas as pd\n"
   ]
  },
  {
   "cell_type": "markdown",
   "metadata": {},
   "source": [
    "Valores importantes\n",
    "\n",
    "K = numero de clusters\n",
    "p = numero de matrizes de dissimilaridade\n",
    "n = numero de exemplos\n"
   ]
  },
  {
   "cell_type": "markdown",
   "metadata": {},
   "source": [
    "Dimensionalidades:\n",
    "G = p x K  \n",
    "U = N x K  \n",
    "A = p x K\n",
    "D = p x n x n\n",
    "D' = n x k \n",
    "\n",
    "term_1  = K x n\n",
    "term_2  = x "
   ]
  },
  {
   "cell_type": "code",
   "execution_count": 6,
   "metadata": {},
   "outputs": [
    {
     "name": "stdout",
     "output_type": "stream",
     "text": [
      "['../data/diss_matrices/no_class/diss_matrix_euclidean.csv', '../data/diss_matrices/no_class/diss_matrix_cityblock.csv', '../data/diss_matrices/no_class/diss_matrix_chebyshev.csv']\n",
      "CPU times: user 8min 29s, sys: 21.5 s, total: 8min 51s\n",
      "Wall time: 10min 21s\n"
     ]
    }
   ],
   "source": [
    "%%time\n",
    "mode = 'no_class'\n",
    "metrics = ['euclidean','cityblock','chebyshev']\n",
    "\n",
    "input_path = [\n",
    "    os.path.join( '../data/diss_matrices/{}/diss_matrix_{}.csv'.format(mode,metric) ) for metric in metrics\n",
    "    ]\n",
    "print(input_path)\n",
    "D = [np.expand_dims(pd.read_csv(filename).to_numpy(), axis=0) for filename in input_path]\n",
    "\n",
    "D = np.concatenate( D,axis=0)\n",
    "D = D[:,:,1:]"
   ]
  },
  {
   "cell_type": "code",
   "execution_count": 26,
   "metadata": {},
   "outputs": [
    {
     "data": {
      "text/plain": [
       "(3, 20866, 20866)"
      ]
     },
     "execution_count": 26,
     "metadata": {},
     "output_type": "execute_result"
    }
   ],
   "source": [
    "D.shape"
   ]
  },
  {
   "cell_type": "code",
   "execution_count": 5,
   "metadata": {},
   "outputs": [
    {
     "name": "stdout",
     "output_type": "stream",
     "text": [
      "\u001b[31mERROR: Could not find a version that satisfies the requirement pytables (from versions: none)\u001b[0m\n",
      "\u001b[31mERROR: No matching distribution found for pytables\u001b[0m\n"
     ]
    }
   ],
   "source": [
    "!pip install pytables"
   ]
  },
  {
   "cell_type": "code",
   "execution_count": 4,
   "metadata": {},
   "outputs": [
    {
     "ename": "ImportError",
     "evalue": "Missing optional dependency 'pytables'.  Use pip or conda to install pytables.",
     "output_type": "error",
     "traceback": [
      "\u001b[0;31m---------------------------------------------------------------------------\u001b[0m",
      "\u001b[0;31mModuleNotFoundError\u001b[0m                       Traceback (most recent call last)",
      "File \u001b[0;32m~/anaconda3/envs/AM2/lib/python3.10/site-packages/pandas/compat/_optional.py:138\u001b[0m, in \u001b[0;36mimport_optional_dependency\u001b[0;34m(name, extra, errors, min_version)\u001b[0m\n\u001b[1;32m    <a href='file:///home/dclm/anaconda3/envs/AM2/lib/python3.10/site-packages/pandas/compat/_optional.py?line=136'>137</a>\u001b[0m \u001b[39mtry\u001b[39;00m:\n\u001b[0;32m--> <a href='file:///home/dclm/anaconda3/envs/AM2/lib/python3.10/site-packages/pandas/compat/_optional.py?line=137'>138</a>\u001b[0m     module \u001b[39m=\u001b[39m importlib\u001b[39m.\u001b[39;49mimport_module(name)\n\u001b[1;32m    <a href='file:///home/dclm/anaconda3/envs/AM2/lib/python3.10/site-packages/pandas/compat/_optional.py?line=138'>139</a>\u001b[0m \u001b[39mexcept\u001b[39;00m \u001b[39mImportError\u001b[39;00m:\n",
      "File \u001b[0;32m~/anaconda3/envs/AM2/lib/python3.10/importlib/__init__.py:126\u001b[0m, in \u001b[0;36mimport_module\u001b[0;34m(name, package)\u001b[0m\n\u001b[1;32m    <a href='file:///home/dclm/anaconda3/envs/AM2/lib/python3.10/importlib/__init__.py?line=124'>125</a>\u001b[0m         level \u001b[39m+\u001b[39m\u001b[39m=\u001b[39m \u001b[39m1\u001b[39m\n\u001b[0;32m--> <a href='file:///home/dclm/anaconda3/envs/AM2/lib/python3.10/importlib/__init__.py?line=125'>126</a>\u001b[0m \u001b[39mreturn\u001b[39;00m _bootstrap\u001b[39m.\u001b[39;49m_gcd_import(name[level:], package, level)\n",
      "File \u001b[0;32m<frozen importlib._bootstrap>:1050\u001b[0m, in \u001b[0;36m_gcd_import\u001b[0;34m(name, package, level)\u001b[0m\n",
      "File \u001b[0;32m<frozen importlib._bootstrap>:1027\u001b[0m, in \u001b[0;36m_find_and_load\u001b[0;34m(name, import_)\u001b[0m\n",
      "File \u001b[0;32m<frozen importlib._bootstrap>:1004\u001b[0m, in \u001b[0;36m_find_and_load_unlocked\u001b[0;34m(name, import_)\u001b[0m\n",
      "\u001b[0;31mModuleNotFoundError\u001b[0m: No module named 'tables'",
      "\nDuring handling of the above exception, another exception occurred:\n",
      "\u001b[0;31mImportError\u001b[0m                               Traceback (most recent call last)",
      "File \u001b[0;32m<timed exec>:1\u001b[0m, in \u001b[0;36m<module>\u001b[0;34m\u001b[0m\n",
      "File \u001b[0;32m~/anaconda3/envs/AM2/lib/python3.10/site-packages/pandas/io/pytables.py:572\u001b[0m, in \u001b[0;36mHDFStore.__init__\u001b[0;34m(self, path, mode, complevel, complib, fletcher32, **kwargs)\u001b[0m\n\u001b[1;32m    <a href='file:///home/dclm/anaconda3/envs/AM2/lib/python3.10/site-packages/pandas/io/pytables.py?line=568'>569</a>\u001b[0m \u001b[39mif\u001b[39;00m \u001b[39m\"\u001b[39m\u001b[39mformat\u001b[39m\u001b[39m\"\u001b[39m \u001b[39min\u001b[39;00m kwargs:\n\u001b[1;32m    <a href='file:///home/dclm/anaconda3/envs/AM2/lib/python3.10/site-packages/pandas/io/pytables.py?line=569'>570</a>\u001b[0m     \u001b[39mraise\u001b[39;00m \u001b[39mValueError\u001b[39;00m(\u001b[39m\"\u001b[39m\u001b[39mformat is not a defined argument for HDFStore\u001b[39m\u001b[39m\"\u001b[39m)\n\u001b[0;32m--> <a href='file:///home/dclm/anaconda3/envs/AM2/lib/python3.10/site-packages/pandas/io/pytables.py?line=571'>572</a>\u001b[0m tables \u001b[39m=\u001b[39m import_optional_dependency(\u001b[39m\"\u001b[39;49m\u001b[39mtables\u001b[39;49m\u001b[39m\"\u001b[39;49m)\n\u001b[1;32m    <a href='file:///home/dclm/anaconda3/envs/AM2/lib/python3.10/site-packages/pandas/io/pytables.py?line=573'>574</a>\u001b[0m \u001b[39mif\u001b[39;00m complib \u001b[39mis\u001b[39;00m \u001b[39mnot\u001b[39;00m \u001b[39mNone\u001b[39;00m \u001b[39mand\u001b[39;00m complib \u001b[39mnot\u001b[39;00m \u001b[39min\u001b[39;00m tables\u001b[39m.\u001b[39mfilters\u001b[39m.\u001b[39mall_complibs:\n\u001b[1;32m    <a href='file:///home/dclm/anaconda3/envs/AM2/lib/python3.10/site-packages/pandas/io/pytables.py?line=574'>575</a>\u001b[0m     \u001b[39mraise\u001b[39;00m \u001b[39mValueError\u001b[39;00m(\n\u001b[1;32m    <a href='file:///home/dclm/anaconda3/envs/AM2/lib/python3.10/site-packages/pandas/io/pytables.py?line=575'>576</a>\u001b[0m         \u001b[39mf\u001b[39m\u001b[39m\"\u001b[39m\u001b[39mcomplib only supports \u001b[39m\u001b[39m{\u001b[39;00mtables\u001b[39m.\u001b[39mfilters\u001b[39m.\u001b[39mall_complibs\u001b[39m}\u001b[39;00m\u001b[39m compression.\u001b[39m\u001b[39m\"\u001b[39m\n\u001b[1;32m    <a href='file:///home/dclm/anaconda3/envs/AM2/lib/python3.10/site-packages/pandas/io/pytables.py?line=576'>577</a>\u001b[0m     )\n",
      "File \u001b[0;32m~/anaconda3/envs/AM2/lib/python3.10/site-packages/pandas/compat/_optional.py:141\u001b[0m, in \u001b[0;36mimport_optional_dependency\u001b[0;34m(name, extra, errors, min_version)\u001b[0m\n\u001b[1;32m    <a href='file:///home/dclm/anaconda3/envs/AM2/lib/python3.10/site-packages/pandas/compat/_optional.py?line=138'>139</a>\u001b[0m \u001b[39mexcept\u001b[39;00m \u001b[39mImportError\u001b[39;00m:\n\u001b[1;32m    <a href='file:///home/dclm/anaconda3/envs/AM2/lib/python3.10/site-packages/pandas/compat/_optional.py?line=139'>140</a>\u001b[0m     \u001b[39mif\u001b[39;00m errors \u001b[39m==\u001b[39m \u001b[39m\"\u001b[39m\u001b[39mraise\u001b[39m\u001b[39m\"\u001b[39m:\n\u001b[0;32m--> <a href='file:///home/dclm/anaconda3/envs/AM2/lib/python3.10/site-packages/pandas/compat/_optional.py?line=140'>141</a>\u001b[0m         \u001b[39mraise\u001b[39;00m \u001b[39mImportError\u001b[39;00m(msg)\n\u001b[1;32m    <a href='file:///home/dclm/anaconda3/envs/AM2/lib/python3.10/site-packages/pandas/compat/_optional.py?line=141'>142</a>\u001b[0m     \u001b[39melse\u001b[39;00m:\n\u001b[1;32m    <a href='file:///home/dclm/anaconda3/envs/AM2/lib/python3.10/site-packages/pandas/compat/_optional.py?line=142'>143</a>\u001b[0m         \u001b[39mreturn\u001b[39;00m \u001b[39mNone\u001b[39;00m\n",
      "\u001b[0;31mImportError\u001b[0m: Missing optional dependency 'pytables'.  Use pip or conda to install pytables."
     ]
    }
   ],
   "source": [
    "%%time\n",
    "store = pd.HDFStore(\"diss_matrices.h5\")\n",
    "store['euclidean'] = pd.read_csv('../data/diss_matrices/no_class/diss_matrix_euclidean.csv')\n",
    "store['cityblock'] = pd.read_csv('../data/diss_matrices/no_class/diss_matrix_cityblock.csv')\n",
    "store['chebyshev'] = pd.read_csv('../data/diss_matrices/no_class/diss_matrix_chebyshev.csv')\n",
    "store.close()"
   ]
  },
  {
   "cell_type": "code",
   "execution_count": null,
   "metadata": {},
   "outputs": [
    {
     "ename": "ImportError",
     "evalue": "Missing optional dependency 'pytables'.  Use pip or conda to install pytables.",
     "output_type": "error",
     "traceback": [
      "\u001b[0;31m---------------------------------------------------------------------------\u001b[0m",
      "\u001b[0;31mModuleNotFoundError\u001b[0m                       Traceback (most recent call last)",
      "File \u001b[0;32m~/anaconda3/envs/AM2/lib/python3.10/site-packages/pandas/compat/_optional.py:138\u001b[0m, in \u001b[0;36mimport_optional_dependency\u001b[0;34m(name, extra, errors, min_version)\u001b[0m\n\u001b[1;32m    <a href='file:///home/dclm/anaconda3/envs/AM2/lib/python3.10/site-packages/pandas/compat/_optional.py?line=136'>137</a>\u001b[0m \u001b[39mtry\u001b[39;00m:\n\u001b[0;32m--> <a href='file:///home/dclm/anaconda3/envs/AM2/lib/python3.10/site-packages/pandas/compat/_optional.py?line=137'>138</a>\u001b[0m     module \u001b[39m=\u001b[39m importlib\u001b[39m.\u001b[39;49mimport_module(name)\n\u001b[1;32m    <a href='file:///home/dclm/anaconda3/envs/AM2/lib/python3.10/site-packages/pandas/compat/_optional.py?line=138'>139</a>\u001b[0m \u001b[39mexcept\u001b[39;00m \u001b[39mImportError\u001b[39;00m:\n",
      "File \u001b[0;32m~/anaconda3/envs/AM2/lib/python3.10/importlib/__init__.py:126\u001b[0m, in \u001b[0;36mimport_module\u001b[0;34m(name, package)\u001b[0m\n\u001b[1;32m    <a href='file:///home/dclm/anaconda3/envs/AM2/lib/python3.10/importlib/__init__.py?line=124'>125</a>\u001b[0m         level \u001b[39m+\u001b[39m\u001b[39m=\u001b[39m \u001b[39m1\u001b[39m\n\u001b[0;32m--> <a href='file:///home/dclm/anaconda3/envs/AM2/lib/python3.10/importlib/__init__.py?line=125'>126</a>\u001b[0m \u001b[39mreturn\u001b[39;00m _bootstrap\u001b[39m.\u001b[39;49m_gcd_import(name[level:], package, level)\n",
      "File \u001b[0;32m<frozen importlib._bootstrap>:1050\u001b[0m, in \u001b[0;36m_gcd_import\u001b[0;34m(name, package, level)\u001b[0m\n",
      "File \u001b[0;32m<frozen importlib._bootstrap>:1027\u001b[0m, in \u001b[0;36m_find_and_load\u001b[0;34m(name, import_)\u001b[0m\n",
      "File \u001b[0;32m<frozen importlib._bootstrap>:1004\u001b[0m, in \u001b[0;36m_find_and_load_unlocked\u001b[0;34m(name, import_)\u001b[0m\n",
      "\u001b[0;31mModuleNotFoundError\u001b[0m: No module named 'tables'",
      "\nDuring handling of the above exception, another exception occurred:\n",
      "\u001b[0;31mImportError\u001b[0m                               Traceback (most recent call last)",
      "\u001b[1;32m/home/dclm/AM/AM-2022.1/notebooks/MVFCMddV.ipynb Cell 7'\u001b[0m in \u001b[0;36m<cell line: 1>\u001b[0;34m()\u001b[0m\n\u001b[0;32m----> <a href='vscode-notebook-cell://ssh-remote%2B177.36.14.116/home/dclm/AM/AM-2022.1/notebooks/MVFCMddV.ipynb#ch0000006vscode-remote?line=0'>1</a>\u001b[0m store \u001b[39m=\u001b[39m pd\u001b[39m.\u001b[39;49mHDFStore(\u001b[39m\"\u001b[39;49m\u001b[39mdiss_matrices.h5\u001b[39;49m\u001b[39m\"\u001b[39;49m)\n",
      "File \u001b[0;32m~/anaconda3/envs/AM2/lib/python3.10/site-packages/pandas/io/pytables.py:572\u001b[0m, in \u001b[0;36mHDFStore.__init__\u001b[0;34m(self, path, mode, complevel, complib, fletcher32, **kwargs)\u001b[0m\n\u001b[1;32m    <a href='file:///home/dclm/anaconda3/envs/AM2/lib/python3.10/site-packages/pandas/io/pytables.py?line=568'>569</a>\u001b[0m \u001b[39mif\u001b[39;00m \u001b[39m\"\u001b[39m\u001b[39mformat\u001b[39m\u001b[39m\"\u001b[39m \u001b[39min\u001b[39;00m kwargs:\n\u001b[1;32m    <a href='file:///home/dclm/anaconda3/envs/AM2/lib/python3.10/site-packages/pandas/io/pytables.py?line=569'>570</a>\u001b[0m     \u001b[39mraise\u001b[39;00m \u001b[39mValueError\u001b[39;00m(\u001b[39m\"\u001b[39m\u001b[39mformat is not a defined argument for HDFStore\u001b[39m\u001b[39m\"\u001b[39m)\n\u001b[0;32m--> <a href='file:///home/dclm/anaconda3/envs/AM2/lib/python3.10/site-packages/pandas/io/pytables.py?line=571'>572</a>\u001b[0m tables \u001b[39m=\u001b[39m import_optional_dependency(\u001b[39m\"\u001b[39;49m\u001b[39mtables\u001b[39;49m\u001b[39m\"\u001b[39;49m)\n\u001b[1;32m    <a href='file:///home/dclm/anaconda3/envs/AM2/lib/python3.10/site-packages/pandas/io/pytables.py?line=573'>574</a>\u001b[0m \u001b[39mif\u001b[39;00m complib \u001b[39mis\u001b[39;00m \u001b[39mnot\u001b[39;00m \u001b[39mNone\u001b[39;00m \u001b[39mand\u001b[39;00m complib \u001b[39mnot\u001b[39;00m \u001b[39min\u001b[39;00m tables\u001b[39m.\u001b[39mfilters\u001b[39m.\u001b[39mall_complibs:\n\u001b[1;32m    <a href='file:///home/dclm/anaconda3/envs/AM2/lib/python3.10/site-packages/pandas/io/pytables.py?line=574'>575</a>\u001b[0m     \u001b[39mraise\u001b[39;00m \u001b[39mValueError\u001b[39;00m(\n\u001b[1;32m    <a href='file:///home/dclm/anaconda3/envs/AM2/lib/python3.10/site-packages/pandas/io/pytables.py?line=575'>576</a>\u001b[0m         \u001b[39mf\u001b[39m\u001b[39m\"\u001b[39m\u001b[39mcomplib only supports \u001b[39m\u001b[39m{\u001b[39;00mtables\u001b[39m.\u001b[39mfilters\u001b[39m.\u001b[39mall_complibs\u001b[39m}\u001b[39;00m\u001b[39m compression.\u001b[39m\u001b[39m\"\u001b[39m\n\u001b[1;32m    <a href='file:///home/dclm/anaconda3/envs/AM2/lib/python3.10/site-packages/pandas/io/pytables.py?line=576'>577</a>\u001b[0m     )\n",
      "File \u001b[0;32m~/anaconda3/envs/AM2/lib/python3.10/site-packages/pandas/compat/_optional.py:141\u001b[0m, in \u001b[0;36mimport_optional_dependency\u001b[0;34m(name, extra, errors, min_version)\u001b[0m\n\u001b[1;32m    <a href='file:///home/dclm/anaconda3/envs/AM2/lib/python3.10/site-packages/pandas/compat/_optional.py?line=138'>139</a>\u001b[0m \u001b[39mexcept\u001b[39;00m \u001b[39mImportError\u001b[39;00m:\n\u001b[1;32m    <a href='file:///home/dclm/anaconda3/envs/AM2/lib/python3.10/site-packages/pandas/compat/_optional.py?line=139'>140</a>\u001b[0m     \u001b[39mif\u001b[39;00m errors \u001b[39m==\u001b[39m \u001b[39m\"\u001b[39m\u001b[39mraise\u001b[39m\u001b[39m\"\u001b[39m:\n\u001b[0;32m--> <a href='file:///home/dclm/anaconda3/envs/AM2/lib/python3.10/site-packages/pandas/compat/_optional.py?line=140'>141</a>\u001b[0m         \u001b[39mraise\u001b[39;00m \u001b[39mImportError\u001b[39;00m(msg)\n\u001b[1;32m    <a href='file:///home/dclm/anaconda3/envs/AM2/lib/python3.10/site-packages/pandas/compat/_optional.py?line=141'>142</a>\u001b[0m     \u001b[39melse\u001b[39;00m:\n\u001b[1;32m    <a href='file:///home/dclm/anaconda3/envs/AM2/lib/python3.10/site-packages/pandas/compat/_optional.py?line=142'>143</a>\u001b[0m         \u001b[39mreturn\u001b[39;00m \u001b[39mNone\u001b[39;00m\n",
      "\u001b[0;31mImportError\u001b[0m: Missing optional dependency 'pytables'.  Use pip or conda to install pytables."
     ]
    }
   ],
   "source": [
    "store = pd.HDFStore(\"diss_matrices.h5\")"
   ]
  },
  {
   "cell_type": "code",
   "execution_count": null,
   "metadata": {},
   "outputs": [
    {
     "name": "stdout",
     "output_type": "stream",
     "text": [
      "CPU times: user 3.79 s, sys: 8.5 s, total: 12.3 s\n",
      "Wall time: 18.7 s\n"
     ]
    }
   ],
   "source": [
    "%%time\n",
    "D_ = [np.expand_dims(store[matrix].to_numpy(), axis=0) for matrix in store]\n",
    "D_ = np.concatenate(D_,axis=0)\n",
    "D_ = D_[:,:,1:]"
   ]
  },
  {
   "cell_type": "code",
   "execution_count": null,
   "metadata": {},
   "outputs": [
    {
     "data": {
      "text/plain": [
       "(3, 20866, 20866)"
      ]
     },
     "execution_count": 37,
     "metadata": {},
     "output_type": "execute_result"
    }
   ],
   "source": [
    "D_.shape"
   ]
  },
  {
   "cell_type": "code",
   "execution_count": null,
   "metadata": {},
   "outputs": [],
   "source": [
    "store.close()"
   ]
  },
  {
   "cell_type": "code",
   "execution_count": null,
   "metadata": {},
   "outputs": [
    {
     "name": "stdout",
     "output_type": "stream",
     "text": [
      "(3, 20866, 20866)\n",
      "(3,)\n",
      "[[[0.00000000e+00 9.04564658e-05 4.81121897e-05 ... 8.94753757e-05\n",
      "   8.89848307e-05 9.90900371e-05]\n",
      "  [9.04564658e-05 0.00000000e+00 9.04564658e-05 ... 2.97837269e-05\n",
      "   3.78023979e-05 5.26942604e-05]\n",
      "  [4.81121897e-05 9.04564658e-05 0.00000000e+00 ... 8.94753757e-05\n",
      "   8.89848307e-05 9.90900371e-05]\n",
      "  ...\n",
      "  [8.94753757e-05 2.97837269e-05 8.94753757e-05 ... 0.00000000e+00\n",
      "   6.75861302e-05 8.24779927e-05]\n",
      "  [8.89848307e-05 3.78023979e-05 8.89848307e-05 ... 6.75861302e-05\n",
      "   0.00000000e+00 1.81719879e-05]\n",
      "  [9.90900371e-05 5.26942604e-05 9.90900371e-05 ... 8.24779927e-05\n",
      "   1.81719879e-05 0.00000000e+00]]\n",
      "\n",
      " [[0.00000000e+00 7.99588743e-05 5.41386398e-05 ... 6.62175298e-05\n",
      "   7.96542081e-05 1.04486870e-04]\n",
      "  [7.99588743e-05 0.00000000e+00 8.35635583e-05 ... 3.27446614e-05\n",
      "   4.42273267e-05 5.13408268e-05]\n",
      "  [5.41386398e-05 8.35635583e-05 0.00000000e+00 ... 1.00215293e-04\n",
      "   6.89144872e-05 9.07694484e-05]\n",
      "  ...\n",
      "  [6.62175298e-05 3.27446614e-05 1.00215293e-04 ... 0.00000000e+00\n",
      "   5.43505703e-05 6.71546804e-05]\n",
      "  [7.96542081e-05 4.42273267e-05 6.89144872e-05 ... 5.43505703e-05\n",
      "   0.00000000e+00 3.09876596e-05]\n",
      "  [1.04486870e-04 5.13408268e-05 9.07694484e-05 ... 6.71546804e-05\n",
      "   3.09876596e-05 0.00000000e+00]]\n",
      "\n",
      " [[0.00000000e+00 7.97324246e-05 4.85961100e-05 ... 7.39545721e-05\n",
      "   8.53861638e-05 1.00910875e-04]\n",
      "  [7.97324246e-05 0.00000000e+00 8.08152836e-05 ... 3.13622986e-05\n",
      "   4.33342502e-05 5.48815478e-05]\n",
      "  [4.85961100e-05 8.08152836e-05 0.00000000e+00 ... 9.14995908e-05\n",
      "   7.12522378e-05 8.44797396e-05]\n",
      "  ...\n",
      "  [7.39545721e-05 3.13622986e-05 9.14995908e-05 ... 0.00000000e+00\n",
      "   6.32161173e-05 7.56885711e-05]\n",
      "  [8.53861638e-05 4.33342502e-05 7.12522378e-05 ... 6.32161173e-05\n",
      "   0.00000000e+00 2.54442257e-05]\n",
      "  [1.00910875e-04 5.48815478e-05 8.44797396e-05 ... 7.56885711e-05\n",
      "   2.54442257e-05 0.00000000e+00]]]\n"
     ]
    }
   ],
   "source": [
    "def normalize_data(D):\n",
    "    print(D.shape)\n",
    "    l = ([p.sum(axis=1).argmin() for p in list(D)])\n",
    "    print(np.asarray(l).shape)\n",
    "    k  =[ np.sum(D[i][l[i]]) for i in range(len(l)) ]\n",
    "    k = np.asarray(k)[...,np.newaxis,np.newaxis]\n",
    "    D = np.divide(D,k)\n",
    "    return D\n",
    "    \n",
    "    \n",
    "l = normalize_data(D)\n",
    "print(l)"
   ]
  },
  {
   "cell_type": "code",
   "execution_count": 7,
   "metadata": {},
   "outputs": [],
   "source": [
    "def select_medoids_dist(D,G):\n",
    "    return np.stack([D[i,G[i],:] for i in range(D.shape[0])], axis=0 )\n"
   ]
  },
  {
   "cell_type": "code",
   "execution_count": 8,
   "metadata": {},
   "outputs": [],
   "source": [
    "def compute_J(G,U,D,A,m=2):\n",
    "    Dt = select_medoids_dist(D,G)\n",
    "    Ut = np.power(U,m)\n",
    "    A = np.einsum('pk,pkn->kn',A,Dt) \n",
    "    return np.einsum('kn,kn->',A,Ut)"
   ]
  },
  {
   "cell_type": "code",
   "execution_count": 9,
   "metadata": {},
   "outputs": [],
   "source": [
    "def compute_U_fuzzy_part(G, U, D, A, m):\n",
    "    Dt = select_medoids_dist(D,G)\n",
    "    term_1  = np.einsum('pk,pkn->kn',A,Dt)\n",
    "    term_2  = np.einsum('pk,pkn->n',A,Dt )  \n",
    "\n",
    "    l = np.divide(term_1, term_2)\n",
    "\n",
    "    k = np.power( l, (1/(m-1)))\n",
    "    k[np.where(k == 0)] = 1\n",
    "    \n",
    "    Ut = np.divide(1,k)\n",
    "    return Ut"
   ]
  },
  {
   "cell_type": "code",
   "execution_count": 10,
   "metadata": {},
   "outputs": [],
   "source": [
    "def search_best_relev_vec(G,U,D,A,m):\n",
    "    Dt = select_medoids_dist(D,G)\n",
    "\n",
    "    Ut = np.power(U,m)\n",
    "    l = np.einsum('kn,pkn->pk',Ut,Dt)\n",
    "\n",
    "    a = np.prod(l,axis=0)\n",
    "    a = np.power(a,(1/(D.shape[0])))\n",
    "    al = np.divide(a,l)\n",
    "    \n",
    "    return al"
   ]
  },
  {
   "cell_type": "code",
   "execution_count": 11,
   "metadata": {},
   "outputs": [],
   "source": [
    "def search_best_medoids(G,U,D,A,m):\n",
    "\n",
    "    all = []\n",
    "    for p in range (D.shape[0]):\n",
    "        al = []\n",
    "        for k in range(U.shape[0]):\n",
    "            h = np.sum(np.power(U[k],m)*D[p],axis=1).argmin()\n",
    "            al.append(h)\n",
    "        all.append(al)\n",
    "    \n",
    "    all = np.asarray(all)\n",
    "    return all\n"
   ]
  },
  {
   "cell_type": "code",
   "execution_count": 15,
   "metadata": {},
   "outputs": [],
   "source": [
    "def mv_algorithm(D, K, m, T, e):\n",
    "\n",
    "    \"\"\"\n",
    "    \n",
    "    \"\"\"\n",
    "\n",
    "    ########## CONSTRAINTS ##############\n",
    "     \n",
    "    assert D.shape[1] == D.shape[2]\n",
    "    assert K > 1 and K < D.shape[1]\n",
    "    assert e > 0 \n",
    "    assert m > 1\n",
    "\n",
    "    ######### INITIALIZATION #############\n",
    "\n",
    "    p = D.shape[0]\n",
    "    n = D.shape[1]\n",
    "  \n",
    "\n",
    "    G          = np.random.randint(low=0,high=n,size=(p,K))\n",
    "    A          = np.ones(shape=(p,K))\n",
    "    U          = compute_U_fuzzy_part(G,None,D,A,m)\n",
    "\n",
    "    \n",
    "   \n",
    "    cur_u  = compute_J(G,U,D,A,m)\n",
    "    \n",
    "\n",
    "\n",
    "    last_u = 0\n",
    "\n",
    "    ########## TRAINING LOOP ###############\n",
    "    for t in range(T):\n",
    "\n",
    "        G = search_best_medoids(G,U,D,A,m)\n",
    "        A = search_best_relev_vec(G,U,D,A,m)\n",
    "        \n",
    "\n",
    "        U          = compute_U_fuzzy_part(G,U,D,A,m)\n",
    "        \n",
    "\n",
    "\n",
    "        \n",
    "        \n",
    "        last_u = cur_u\n",
    "        cur_u = compute_J(G,U,D,A,m)\n",
    "        print(\"Epoch {} ---- dif = {}\".format(t,np.absolute(cur_u-last_u)))\n",
    "        if np.absolute(cur_u-last_u) < e:\n",
    "            print('saiu com {}'.format(t))\n",
    "            break"
   ]
  },
  {
   "cell_type": "code",
   "execution_count": 16,
   "metadata": {},
   "outputs": [
    {
     "name": "stdout",
     "output_type": "stream",
     "text": [
      "(3, 20866, 20866)\n"
     ]
    }
   ],
   "source": [
    "print(D.shape)\n",
    "K = 5\n",
    "T = 10\n",
    "e = 0.00000000000000001\n",
    "m = 3"
   ]
  },
  {
   "cell_type": "code",
   "execution_count": 17,
   "metadata": {},
   "outputs": [
    {
     "name": "stdout",
     "output_type": "stream",
     "text": [
      "Epoch 0 ---- dif = 91.6691478900058\n",
      "Epoch 1 ---- dif = 0.22615734171372992\n",
      "Epoch 2 ---- dif = 0.05445445462811449\n",
      "Epoch 3 ---- dif = 0.19432034101933482\n",
      "Epoch 4 ---- dif = 0.00023721153257838523\n",
      "Epoch 5 ---- dif = 1.668065550575193e-06\n",
      "Epoch 6 ---- dif = 2.6944860564981354e-08\n",
      "Epoch 7 ---- dif = 4.782521045854082e-10\n",
      "Epoch 8 ---- dif = 8.554934538551606e-12\n",
      "Epoch 9 ---- dif = 2.2737367544323206e-13\n"
     ]
    }
   ],
   "source": [
    "mv_algorithm(D.astype(np.float32), K, m, T, e)"
   ]
  }
 ],
 "metadata": {
  "interpreter": {
   "hash": "1cd7a76e48312c74ed59032ef7741bdd12dc3149840c88306086948f5eadd218"
  },
  "kernelspec": {
   "display_name": "Python 3 (ipykernel)",
   "language": "python",
   "name": "python3"
  },
  "language_info": {
   "codemirror_mode": {
    "name": "ipython",
    "version": 3
   },
   "file_extension": ".py",
   "mimetype": "text/x-python",
   "name": "python",
   "nbconvert_exporter": "python",
   "pygments_lexer": "ipython3",
   "version": "3.10.4"
  }
 },
 "nbformat": 4,
 "nbformat_minor": 2
}
