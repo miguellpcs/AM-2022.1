{
 "cells": [
  {
   "cell_type": "code",
   "execution_count": 320,
   "metadata": {},
   "outputs": [],
   "source": [
    "import numpy as np\n",
    "import os \n",
    "import pandas as pd"
   ]
  },
  {
   "cell_type": "markdown",
   "metadata": {},
   "source": [
    "Valores importantes\n",
    "\n",
    "K = numero de clusters\n",
    "p = numero de matrizes de dissimilaridade\n",
    "n = numero de exemplos\n"
   ]
  },
  {
   "cell_type": "markdown",
   "metadata": {},
   "source": [
    "Dimensionalidades:\n",
    "G = p x K  \n",
    "U = N x K  \n",
    "A = p x K\n",
    "D = p x n x n\n",
    "D' = n x k \n",
    "\n",
    "term_1  = K x n\n",
    "term_2  = x "
   ]
  },
  {
   "cell_type": "code",
   "execution_count": 321,
   "metadata": {},
   "outputs": [
    {
     "name": "stdout",
     "output_type": "stream",
     "text": [
      "['../data/diss_matrices/no_class/diss_matrix_euclidean_tests.csv', '../data/diss_matrices/no_class/diss_matrix_cityblock_tests.csv', '../data/diss_matrices/no_class/diss_matrix_chebyshev_tests.csv']\n"
     ]
    }
   ],
   "source": [
    "mode = 'no_class'\n",
    "metrics = ['euclidean','cityblock','chebyshev']\n",
    "\n",
    "input_path = [\n",
    "    os.path.join( '../data/diss_matrices/{}/diss_matrix_{}_tests.csv'.format(mode,metric) ) for metric in metrics\n",
    "    ]\n",
    "print(input_path)\n",
    "D = [np.expand_dims(pd.read_csv(filename).to_numpy(),axis=0) for filename in input_path]\n",
    "\n",
    "\n",
    "D = np.concatenate( D,axis=0)\n",
    "D = D[:,:,1:]\n"
   ]
  },
  {
   "cell_type": "code",
   "execution_count": 322,
   "metadata": {},
   "outputs": [
    {
     "name": "stdout",
     "output_type": "stream",
     "text": [
      "(3, 499, 499)\n",
      "(3,)\n",
      "[[[0.         0.00305977 0.0018649  ... 0.00304117 0.00307501 0.00277842]\n",
      "  [0.00305977 0.         0.00310133 ... 0.00088202 0.00187733 0.0010486 ]\n",
      "  [0.0018649  0.00310133 0.         ... 0.0028556  0.00260393 0.00272394]\n",
      "  ...\n",
      "  [0.00304117 0.00088202 0.0028556  ... 0.         0.00146558 0.00083038]\n",
      "  [0.00307501 0.00187733 0.00260393 ... 0.00146558 0.         0.00126269]\n",
      "  [0.00277842 0.0010486  0.00272394 ... 0.00083038 0.00126269 0.        ]]\n",
      "\n",
      " [[0.         0.00306299 0.00207389 ... 0.00309501 0.00276288 0.00248635]\n",
      "  [0.00306299 0.         0.00320107 ... 0.00096853 0.00205168 0.00123643]\n",
      "  [0.00207389 0.00320107 0.         ... 0.00263083 0.00200436 0.00261413]\n",
      "  ...\n",
      "  [0.00309501 0.00096853 0.00263083 ... 0.         0.00151246 0.00076311]\n",
      "  [0.00276288 0.00205168 0.00200436 ... 0.00151246 0.         0.00130132]\n",
      "  [0.00248635 0.00123643 0.00261413 ... 0.00076311 0.00130132 0.        ]]\n",
      "\n",
      " [[0.         0.00346448 0.0018427  ... 0.00348327 0.00357721 0.00329163]\n",
      "  [0.00346448 0.         0.00346448 ... 0.00092247 0.00177412 0.00080955]\n",
      "  [0.0018427  0.00346448 0.         ... 0.00348327 0.00357721 0.00329163]\n",
      "  ...\n",
      "  [0.00348327 0.00092247 0.00348327 ... 0.         0.00148677 0.00101709]\n",
      "  [0.00357721 0.00177412 0.00357721 ... 0.00148677 0.         0.00134498]\n",
      "  [0.00329163 0.00080955 0.00329163 ... 0.00101709 0.00134498 0.        ]]]\n"
     ]
    }
   ],
   "source": [
    "def normalize_data(D):\n",
    "    print(D.shape)\n",
    "    l = ([p.sum(axis=1).argmin() for p in list(D)])\n",
    "    print(np.asarray(l).shape)\n",
    "    k  =[ np.sum(D[i][l[i]]) for i in range(len(l)) ]\n",
    "    k = np.asarray(k)[...,np.newaxis,np.newaxis]\n",
    "    D = np.divide(D,k)\n",
    "    return D\n",
    "    \n",
    "    \n",
    "l = normalize_data(D)\n",
    "print(l)"
   ]
  },
  {
   "cell_type": "code",
   "execution_count": 323,
   "metadata": {},
   "outputs": [],
   "source": [
    "def compute_J(G,U,D,A,m=2):\n",
    "    Ut = np.power(U,m)\n",
    "    A = np.einsum('pk,pkn->kn',A,D[:,G,:]) \n",
    "    return np.einsum('kn,kn->',A,Ut)\n"
   ]
  },
  {
   "cell_type": "code",
   "execution_count": 358,
   "metadata": {},
   "outputs": [],
   "source": [
    "def compute_U_fuzzy_part(G, U, D, A, m):\n",
    "    term_1  = np.einsum('pk,pkn->kn',A,D[G,...])\n",
    "    term_2  = np.einsum('pk,pkn->n',A,D[G,...] )  \n",
    "\n",
    "    l = np.divide(term_1, term_2)\n",
    "\n",
    "    k = np.power( l, (1/(m-1)))\n",
    "    k[np.where(k == 0)] = 1\n",
    "    \n",
    "    Ut = np.divide(1,k)\n",
    "    return Ut\n",
    "\n"
   ]
  },
  {
   "cell_type": "code",
   "execution_count": 359,
   "metadata": {},
   "outputs": [],
   "source": [
    "def search_best_relev_vec(G,U,D,A,m):\n",
    "\n",
    "    Ut = np.power(U,m)\n",
    "    l = np.einsum('kn,pkn->pk',Ut,D[:,G,:])\n",
    "\n",
    "    a = np.prod(l,axis=0)\n",
    "    a = np.power(a,(1/(D.shape[0])))\n",
    "    al = np.divide(a,l)\n",
    "    \n",
    "    return al"
   ]
  },
  {
   "cell_type": "code",
   "execution_count": 331,
   "metadata": {},
   "outputs": [],
   "source": [
    "def search_best_medoids(G,U,D,A,m):\n",
    "\n",
    "    all = []\n",
    "    for p in range (D.shape[0]):\n",
    "        al = []\n",
    "        for k in range(U.shape[0]):\n",
    "            h = np.sum(np.power(U[k],m)*D[p],axis=1).argmin()\n",
    "            al.append(h)\n",
    "        all.append(al)\n",
    "    \n",
    "    all = np.asarray(all)\n",
    "    return all\n"
   ]
  },
  {
   "cell_type": "code",
   "execution_count": 346,
   "metadata": {},
   "outputs": [],
   "source": [
    "def mv_algorithm(D, K, m, T, e):\n",
    "\n",
    "    \"\"\"\n",
    "    \n",
    "    \"\"\"\n",
    "\n",
    "    ########## CONSTRAINTS ##############\n",
    "     \n",
    "    assert D.shape[1] == D.shape[2]\n",
    "    assert K > 1 and K < D.shape[1]\n",
    "    assert e > 0 \n",
    "    assert m > 1\n",
    "\n",
    "    ######### INITIALIZATION #############\n",
    "\n",
    "    p = D.shape[0]\n",
    "    n = D.shape[1]\n",
    "  \n",
    "\n",
    "    G          = np.random.randint(low=0,high=n,size=(p,K))\n",
    "    A          = np.ones(shape=(p,K))\n",
    "    U          = compute_U_fuzzy_part(G,None,D,A,m)\n",
    "\n",
    "    \n",
    "   \n",
    "    cur_u  = compute_J(G,U,D,A,m)\n",
    "    \n",
    "\n",
    "\n",
    "    last_u = 0\n",
    "\n",
    "    ########## TRAINING LOOP ###############\n",
    "    for t in range(T):\n",
    "        print(\"G shape before search ({}) = {}\".format(t,G.shape))\n",
    "\n",
    "        G = search_best_medoids(G,U,D,A,m)\n",
    "        print(\"G shape after search ({}) = {}\".format(t,G.shape))\n",
    "        #print(A.shape)\n",
    "        print(\"D shape before search ({}) = {}\".format(t,D.shape))\n",
    "        A = search_best_relev_vec(G,U,D,A,m)\n",
    "        print(\"D shape after search ({}) = {}\".format(t,D.shape))\n",
    "        #print(A.shape)\n",
    "\n",
    "        U          = compute_U_fuzzy_part(G,U,D,A,m)\n",
    "        \n",
    "\n",
    "\n",
    "        #print(cur_u)\n",
    "        \n",
    "        last_u = cur_u\n",
    "        cur_u = compute_J(G,U,D,A,m)\n",
    "        #print(cur_u-last_u)\n",
    "        if np.absolute(cur_u-last_u) < e:\n",
    "            print('saiu com {}'.format(t))\n",
    "            break\n",
    "\n",
    "\n",
    "\n",
    "\n",
    "\n",
    "\n"
   ]
  },
  {
   "cell_type": "code",
   "execution_count": 328,
   "metadata": {},
   "outputs": [
    {
     "name": "stdout",
     "output_type": "stream",
     "text": [
      "(3, 499, 499)\n"
     ]
    }
   ],
   "source": [
    "\n",
    "print(D.shape)\n",
    "K = 5\n",
    "T = 10\n",
    "e = 0.1\n",
    "m = 3"
   ]
  },
  {
   "cell_type": "code",
   "execution_count": 360,
   "metadata": {},
   "outputs": [
    {
     "ename": "ValueError",
     "evalue": "cannot select an axis to squeeze out which has size not equal to one",
     "output_type": "error",
     "traceback": [
      "\u001b[0;31m---------------------------------------------------------------------------\u001b[0m",
      "\u001b[0;31mValueError\u001b[0m                                Traceback (most recent call last)",
      "\u001b[1;32m/home/dclm/AM/AM-2022.1/src/MVFCMddV.ipynb Cell 12'\u001b[0m in \u001b[0;36m<cell line: 1>\u001b[0;34m()\u001b[0m\n\u001b[0;32m----> <a href='vscode-notebook-cell://ssh-remote%2B177.36.14.116/home/dclm/AM/AM-2022.1/src/MVFCMddV.ipynb#ch0000011vscode-remote?line=0'>1</a>\u001b[0m mv_algorithm(D, K, m, T, e)\n",
      "\u001b[1;32m/home/dclm/AM/AM-2022.1/src/MVFCMddV.ipynb Cell 10'\u001b[0m in \u001b[0;36mmv_algorithm\u001b[0;34m(D, K, m, T, e)\u001b[0m\n\u001b[1;32m     <a href='vscode-notebook-cell://ssh-remote%2B177.36.14.116/home/dclm/AM/AM-2022.1/src/MVFCMddV.ipynb#ch0000009vscode-remote?line=19'>20</a>\u001b[0m G          \u001b[39m=\u001b[39m np\u001b[39m.\u001b[39mrandom\u001b[39m.\u001b[39mrandint(low\u001b[39m=\u001b[39m\u001b[39m0\u001b[39m,high\u001b[39m=\u001b[39mn,size\u001b[39m=\u001b[39m(p,K))\n\u001b[1;32m     <a href='vscode-notebook-cell://ssh-remote%2B177.36.14.116/home/dclm/AM/AM-2022.1/src/MVFCMddV.ipynb#ch0000009vscode-remote?line=20'>21</a>\u001b[0m A          \u001b[39m=\u001b[39m np\u001b[39m.\u001b[39mones(shape\u001b[39m=\u001b[39m(p,K))\n\u001b[0;32m---> <a href='vscode-notebook-cell://ssh-remote%2B177.36.14.116/home/dclm/AM/AM-2022.1/src/MVFCMddV.ipynb#ch0000009vscode-remote?line=21'>22</a>\u001b[0m U          \u001b[39m=\u001b[39m compute_U_fuzzy_part(G,\u001b[39mNone\u001b[39;49;00m,D,A,m)\n\u001b[1;32m     <a href='vscode-notebook-cell://ssh-remote%2B177.36.14.116/home/dclm/AM/AM-2022.1/src/MVFCMddV.ipynb#ch0000009vscode-remote?line=25'>26</a>\u001b[0m cur_u  \u001b[39m=\u001b[39m compute_J(G,U,D,A,m)\n\u001b[1;32m     <a href='vscode-notebook-cell://ssh-remote%2B177.36.14.116/home/dclm/AM/AM-2022.1/src/MVFCMddV.ipynb#ch0000009vscode-remote?line=29'>30</a>\u001b[0m last_u \u001b[39m=\u001b[39m \u001b[39m0\u001b[39m\n",
      "\u001b[1;32m/home/dclm/AM/AM-2022.1/src/MVFCMddV.ipynb Cell 7'\u001b[0m in \u001b[0;36mcompute_U_fuzzy_part\u001b[0;34m(G, U, D, A, m)\u001b[0m\n\u001b[1;32m      <a href='vscode-notebook-cell://ssh-remote%2B177.36.14.116/home/dclm/AM/AM-2022.1/src/MVFCMddV.ipynb#ch0000006vscode-remote?line=0'>1</a>\u001b[0m \u001b[39mdef\u001b[39;00m \u001b[39mcompute_U_fuzzy_part\u001b[39m(G, U, D, A, m):\n\u001b[0;32m----> <a href='vscode-notebook-cell://ssh-remote%2B177.36.14.116/home/dclm/AM/AM-2022.1/src/MVFCMddV.ipynb#ch0000006vscode-remote?line=1'>2</a>\u001b[0m     Dl \u001b[39m=\u001b[39m np\u001b[39m.\u001b[39;49msqueeze(D[\u001b[39m0\u001b[39;49m],axis\u001b[39m=\u001b[39;49m\u001b[39m0\u001b[39;49m)\n\u001b[1;32m      <a href='vscode-notebook-cell://ssh-remote%2B177.36.14.116/home/dclm/AM/AM-2022.1/src/MVFCMddV.ipynb#ch0000006vscode-remote?line=2'>3</a>\u001b[0m     term_1  \u001b[39m=\u001b[39m np\u001b[39m.\u001b[39meinsum(\u001b[39m'\u001b[39m\u001b[39mpk,pkn->kn\u001b[39m\u001b[39m'\u001b[39m,A,D[G,\u001b[39m.\u001b[39m\u001b[39m.\u001b[39m\u001b[39m.\u001b[39m])\n\u001b[1;32m      <a href='vscode-notebook-cell://ssh-remote%2B177.36.14.116/home/dclm/AM/AM-2022.1/src/MVFCMddV.ipynb#ch0000006vscode-remote?line=3'>4</a>\u001b[0m     term_2  \u001b[39m=\u001b[39m np\u001b[39m.\u001b[39meinsum(\u001b[39m'\u001b[39m\u001b[39mpk,pkn->n\u001b[39m\u001b[39m'\u001b[39m,A,D[G,\u001b[39m.\u001b[39m\u001b[39m.\u001b[39m\u001b[39m.\u001b[39m] )  \n",
      "File \u001b[0;32m<__array_function__ internals>:180\u001b[0m, in \u001b[0;36msqueeze\u001b[0;34m(*args, **kwargs)\u001b[0m\n",
      "File \u001b[0;32m~/anaconda3/envs/AM2/lib/python3.10/site-packages/numpy/core/fromnumeric.py:1545\u001b[0m, in \u001b[0;36msqueeze\u001b[0;34m(a, axis)\u001b[0m\n\u001b[1;32m   <a href='file:///home/dclm/anaconda3/envs/AM2/lib/python3.10/site-packages/numpy/core/fromnumeric.py?line=1542'>1543</a>\u001b[0m     \u001b[39mreturn\u001b[39;00m squeeze()\n\u001b[1;32m   <a href='file:///home/dclm/anaconda3/envs/AM2/lib/python3.10/site-packages/numpy/core/fromnumeric.py?line=1543'>1544</a>\u001b[0m \u001b[39melse\u001b[39;00m:\n\u001b[0;32m-> <a href='file:///home/dclm/anaconda3/envs/AM2/lib/python3.10/site-packages/numpy/core/fromnumeric.py?line=1544'>1545</a>\u001b[0m     \u001b[39mreturn\u001b[39;00m squeeze(axis\u001b[39m=\u001b[39;49maxis)\n",
      "\u001b[0;31mValueError\u001b[0m: cannot select an axis to squeeze out which has size not equal to one"
     ]
    }
   ],
   "source": [
    "mv_algorithm(D, K, m, T, e)"
   ]
  },
  {
   "cell_type": "code",
   "execution_count": null,
   "metadata": {},
   "outputs": [],
   "source": []
  }
 ],
 "metadata": {
  "interpreter": {
   "hash": "1cd7a76e48312c74ed59032ef7741bdd12dc3149840c88306086948f5eadd218"
  },
  "kernelspec": {
   "display_name": "Python 3.10.4 ('AM2')",
   "language": "python",
   "name": "python3"
  },
  "language_info": {
   "codemirror_mode": {
    "name": "ipython",
    "version": 3
   },
   "file_extension": ".py",
   "mimetype": "text/x-python",
   "name": "python",
   "nbconvert_exporter": "python",
   "pygments_lexer": "ipython3",
   "version": "3.10.4"
  },
  "orig_nbformat": 4
 },
 "nbformat": 4,
 "nbformat_minor": 2
}
