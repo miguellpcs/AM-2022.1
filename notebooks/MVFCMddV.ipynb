{
 "cells": [
  {
   "cell_type": "code",
   "execution_count": 1,
   "metadata": {},
   "outputs": [],
   "source": [
    "import numpy as np\n",
    "import os \n",
    "import pandas as pd"
   ]
  },
  {
   "cell_type": "markdown",
   "metadata": {},
   "source": [
    "Valores importantes\n",
    "\n",
    "K = numero de clusters\n",
    "p = numero de matrizes de dissimilaridade\n",
    "n = numero de exemplos\n"
   ]
  },
  {
   "cell_type": "markdown",
   "metadata": {},
   "source": [
    "#Dimensionalidades:\n",
    " - G = p x K  \n",
    " - U = K x N  \n",
    " - A = p x K\n",
    "-  D = p x n x n \n",
    "\n",
    "term_1  = K x n\n",
    "term_2  = x "
   ]
  },
  {
   "cell_type": "markdown",
   "metadata": {},
   "source": [
    "# Loading"
   ]
  },
  {
   "cell_type": "code",
   "execution_count": 2,
   "metadata": {},
   "outputs": [],
   "source": [
    "store = pd.HDFStore(\"diss_matrices_.h5\")"
   ]
  },
  {
   "cell_type": "code",
   "execution_count": 3,
   "metadata": {},
   "outputs": [
    {
     "name": "stdout",
     "output_type": "stream",
     "text": [
      "(3, 20867, 20867)\n",
      "CPU times: user 3.88 s, sys: 9.76 s, total: 13.6 s\n",
      "Wall time: 47.6 s\n"
     ]
    }
   ],
   "source": [
    "%%time\n",
    "D_ = [np.expand_dims(store[matrix].to_numpy(), axis=0) for matrix in store]\n",
    "D_ = np.concatenate(D_,axis=0)\n",
    "print(D_.shape)\n"
   ]
  },
  {
   "cell_type": "code",
   "execution_count": 4,
   "metadata": {},
   "outputs": [],
   "source": [
    "store.close()"
   ]
  },
  {
   "cell_type": "code",
   "execution_count": 5,
   "metadata": {},
   "outputs": [
    {
     "data": {
      "text/plain": [
       "(3, 20867, 20867)"
      ]
     },
     "execution_count": 5,
     "metadata": {},
     "output_type": "execute_result"
    }
   ],
   "source": [
    "D_.shape"
   ]
  },
  {
   "cell_type": "markdown",
   "metadata": {},
   "source": [
    "# Techiniques"
   ]
  },
  {
   "cell_type": "code",
   "execution_count": 6,
   "metadata": {},
   "outputs": [],
   "source": [
    "def select_medoids_dist(D,G):\n",
    "    result = np.stack([D[i,G[i],:] for i in range(D.shape[0])], axis=0 )\n",
    "    return result\n"
   ]
  },
  {
   "cell_type": "code",
   "execution_count": 7,
   "metadata": {},
   "outputs": [],
   "source": [
    "def compute_J(G,U,D,A,m=2):\n",
    "    Dt = select_medoids_dist(D,G)\n",
    "    Ut = np.power(U,m)\n",
    "    A = np.einsum('pk,pkn->kn',A,Dt) \n",
    "    return np.einsum('kn,kn->',A,Ut)"
   ]
  },
  {
   "cell_type": "code",
   "execution_count": 8,
   "metadata": {},
   "outputs": [],
   "source": [
    "def compute_U_fuzzy_part(G, U, D, A, m):\n",
    "    Dk = select_medoids_dist(D,G)\n",
    "    \n",
    "    term_1  = np.einsum('pk,pkn->kn',A,Dk)\n",
    "    term_2 = term_1\n",
    "    term_1[np.where(term_1 == 0)] = 1\n",
    "\n",
    "\n",
    "    term_1  = np.power(term_1,-1/(m-1))\n",
    "    term_2  = np.power(term_2,-1/(m-1))\n",
    "    term_2  = np.einsum('kn->n',term_2)\n",
    "    Ut = np.divide(term_1, term_2)\n",
    "   \n",
    "    return Ut"
   ]
  },
  {
   "cell_type": "code",
   "execution_count": 9,
   "metadata": {},
   "outputs": [],
   "source": [
    "def search_best_relev_vec(G,U,D,A,m):\n",
    "    Dt = select_medoids_dist(D,G)\n",
    "\n",
    "    Ut = np.power(U,m)\n",
    "    l = np.einsum('kn,pkn->pk',Ut,Dt)\n",
    "\n",
    "    a = np.prod(l,axis=0)\n",
    "    a = np.power(a,(1/(D.shape[0])))\n",
    "    al = np.divide(a,l)\n",
    "    \n",
    "    return al"
   ]
  },
  {
   "cell_type": "code",
   "execution_count": 10,
   "metadata": {},
   "outputs": [],
   "source": [
    "def search_best_medoids(G,U,D,A,m):\n",
    "\n",
    "    all = []\n",
    "    for p in range (D.shape[0]):\n",
    "        al = []\n",
    "        for k in range(U.shape[0]):\n",
    "            h = np.sum(np.power(U[k],m)*D[p],axis=1).argmin()\n",
    "            al.append(h)\n",
    "        all.append(al)\n",
    "    \n",
    "    all = np.asarray(all)\n",
    "    return all\n"
   ]
  },
  {
   "cell_type": "code",
   "execution_count": 16,
   "metadata": {},
   "outputs": [],
   "source": [
    "def mv_algorithm(D, K, m, T, e, seed = 87):\n",
    "\n",
    "    \"\"\"\n",
    "    \n",
    "    \"\"\"\n",
    "\n",
    "    ########## CONSTRAINTS ##############\n",
    "     \n",
    "    assert D.shape[1] == D.shape[2]\n",
    "    assert K > 1 and K < D.shape[1]\n",
    "    assert e > 0 \n",
    "    assert m > 1\n",
    "\n",
    "    ######### INITIALIZATION #############\n",
    "\n",
    "    p = D.shape[0]\n",
    "    n = D.shape[1]\n",
    "  \n",
    "    rng        = np.random.default_rng(seed=seed)\n",
    "    G          = np.stack([rng.choice(n,size=(K),replace=False) for _ in range(n)],axis=0) \n",
    "    A          = np.ones(shape=(p,K))\n",
    "    U          = compute_U_fuzzy_part(G,None,D,A,m)\n",
    "\n",
    "    \n",
    "   \n",
    "    cur_u  = compute_J(G,U,D,A,m)\n",
    "    \n",
    "\n",
    "\n",
    "    last_u = 0\n",
    "\n",
    "    ########## TRAINING LOOP ###############\n",
    "    for t in range(T):\n",
    "        \n",
    "        G = search_best_medoids(G,U,D,A,m)\n",
    "        A = search_best_relev_vec(G,U,D,A,m)\n",
    "        \n",
    "\n",
    "        U          = compute_U_fuzzy_part(G,U,D,A,m)\n",
    "        \n",
    "\n",
    "\n",
    "    \n",
    "        print(\"Epoch {} ---- \".format(t))\n",
    "        print(\"Cur j = \"+str(cur_u))\n",
    "        last_u = cur_u\n",
    "        cur_u = compute_J(G,U,D,A,m)\n",
    "        \n",
    "        print(\"dif = {}\".format(np.absolute(cur_u-last_u)))\n",
    "        if np.absolute(cur_u-last_u) < e:\n",
    "            print('Converged in {} iterations'.format(t+1))\n",
    "            return G,U,D,A, cur_u"
   ]
  },
  {
   "cell_type": "code",
   "execution_count": 12,
   "metadata": {},
   "outputs": [
    {
     "name": "stdout",
     "output_type": "stream",
     "text": [
      "(3, 20867, 20867)\n"
     ]
    }
   ],
   "source": [
    "K = 12\n",
    "T = 100\n",
    "e = 1e-10\n",
    "m = 2"
   ]
  },
  {
   "cell_type": "code",
   "execution_count": 18,
   "metadata": {},
   "outputs": [],
   "source": [
    "def run_experiments(D_,K=12,T=150,e=1e-10,m=2,runs=5):\n",
    "    param = dict()\n",
    "    best_model = 9999999\n",
    "    seeds = np.random.randint(0,99999,runs)\n",
    "    for seed in seeds:\n",
    "        print(\"seed number {}\".format(seed))\n",
    "        G,U,D,A,cur_u = mv_algorithm(D_,K,m,T,e,seed)\n",
    "        if cur_u < best_model:\n",
    "            param['G'] = G\n",
    "            param['U'] = U\n",
    "            param['D'] = D\n",
    "            param['A'] = A\n",
    "    return param"
   ]
  },
  {
   "cell_type": "code",
   "execution_count": 19,
   "metadata": {},
   "outputs": [
    {
     "name": "stdout",
     "output_type": "stream",
     "text": [
      "seed number 90092\n",
      "Epoch 0 ---- \n",
      "Cur j = 0.3582565978394258\n",
      "dif = 0.10789893335399753\n",
      "Epoch 1 ---- \n",
      "Cur j = 0.2503576644854283\n",
      "dif = 0.000255949664081101\n",
      "Epoch 2 ---- \n",
      "Cur j = 0.2501017148213472\n",
      "dif = 1.1897139629013509e-07\n",
      "Epoch 3 ---- \n",
      "Cur j = 0.2501015958499509\n",
      "dif = 5.455091933725953e-11\n",
      "Converged in 4 iterations\n",
      "seed number 85171\n",
      "Epoch 0 ---- \n",
      "Cur j = 0.3329654624790211\n",
      "dif = 0.08244945501986939\n",
      "Epoch 1 ---- \n",
      "Cur j = 0.2505160074591517\n",
      "dif = 0.0002248064158441032\n",
      "Epoch 2 ---- \n",
      "Cur j = 0.2502912010433076\n",
      "dif = 5.755634318294067e-05\n",
      "Epoch 3 ---- \n",
      "Cur j = 0.25023364470012466\n",
      "dif = 2.933713388886261e-08\n",
      "Epoch 4 ---- \n",
      "Cur j = 0.25023361536299077\n",
      "dif = 8.704370557666152e-12\n",
      "Converged in 5 iterations\n",
      "seed number 49822\n",
      "Epoch 0 ---- \n",
      "Cur j = 0.3361321489030547\n",
      "dif = 0.08562822642107581\n",
      "Epoch 1 ---- \n",
      "Cur j = 0.2505039224819789\n",
      "dif = 0.0003029006837564907\n",
      "Epoch 2 ---- \n",
      "Cur j = 0.2502010217982224\n",
      "dif = 1.3981575116894795e-05\n",
      "Epoch 3 ---- \n",
      "Cur j = 0.2501870402231055\n",
      "dif = 1.6675935077259396e-09\n",
      "Epoch 4 ---- \n",
      "Cur j = 0.250187038555512\n",
      "dif = 9.45410416619552e-13\n",
      "Converged in 5 iterations\n",
      "seed number 41903\n",
      "Epoch 0 ---- \n",
      "Cur j = 0.3498038205577714\n",
      "dif = 0.09930826187607955\n",
      "Epoch 1 ---- \n",
      "Cur j = 0.2504955586816919\n",
      "dif = 0.0003612208764479652\n",
      "Epoch 2 ---- \n",
      "Cur j = 0.2501343378052439\n",
      "dif = 2.24174639891217e-05\n",
      "Epoch 3 ---- \n",
      "Cur j = 0.2501119203412548\n",
      "dif = 9.7195722581489e-09\n",
      "Epoch 4 ---- \n",
      "Cur j = 0.25011191062168253\n",
      "dif = 5.636879851778076e-12\n",
      "Converged in 5 iterations\n",
      "seed number 8845\n",
      "Epoch 0 ---- \n",
      "Cur j = 0.3505831862073781\n",
      "dif = 0.10012751998371922\n",
      "Epoch 1 ---- \n",
      "Cur j = 0.2504556662236589\n",
      "dif = 0.00018992846017668041\n",
      "Epoch 2 ---- \n",
      "Cur j = 0.2502657377634822\n",
      "dif = 7.895742415442442e-08\n",
      "Epoch 3 ---- \n",
      "Cur j = 0.25026565880605806\n",
      "dif = 5.044037409973612e-11\n",
      "Converged in 4 iterations\n"
     ]
    }
   ],
   "source": [
    "param =  run_experiments(D_,K=12,T=150,e=1e-10,m=2,runs=5)"
   ]
  }
 ],
 "metadata": {
  "interpreter": {
   "hash": "1cd7a76e48312c74ed59032ef7741bdd12dc3149840c88306086948f5eadd218"
  },
  "kernelspec": {
   "display_name": "Python 3 (ipykernel)",
   "language": "python",
   "name": "python3"
  },
  "language_info": {
   "codemirror_mode": {
    "name": "ipython",
    "version": 3
   },
   "file_extension": ".py",
   "mimetype": "text/x-python",
   "name": "python",
   "nbconvert_exporter": "python",
   "pygments_lexer": "ipython3",
   "version": "3.10.4"
  }
 },
 "nbformat": 4,
 "nbformat_minor": 2
}
