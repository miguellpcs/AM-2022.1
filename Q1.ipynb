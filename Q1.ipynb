{
 "cells": [
  {
   "cell_type": "markdown",
   "metadata": {},
   "source": [
    "# Projeto Questão 1 - Aprendizagem de Máquina - Pós Graduação - 2022.2 - Prof. Francisco Carvalho\n",
    "\n",
    "## Grupo\n",
    "- Miguel Cruz (mlpcs@cin.ufpe.br)\n",
    "- Lucas Augusto (lama2@cin.ufpe.br)\n",
    "- Marcela Cristina (mcp2@cin.ufpe.br)"
   ]
  },
  {
   "cell_type": "code",
   "execution_count": 115,
   "metadata": {},
   "outputs": [],
   "source": [
    "import numpy as np\n",
    "import os \n",
    "import pandas as pd\n",
    "from datetime import datetime\n"
   ]
  },
  {
   "cell_type": "markdown",
   "metadata": {},
   "source": [
    "Valores importantes\n",
    "\n",
    "K = numero de clusters \\\\\n",
    "p = numero de matrizes de dissimilaridade \\\\\n",
    "n = numero de exemplos\n"
   ]
  },
  {
   "cell_type": "markdown",
   "metadata": {},
   "source": [
    "#Dimensionalidades:\n",
    " - G = p x K  \n",
    " - U = K x N  \n",
    " - A = p x K\n",
    "-  D = p x n x n \n",
    "\n",
    "term_1  = K x n\n",
    "term_2  = x "
   ]
  },
  {
   "cell_type": "markdown",
   "metadata": {},
   "source": [
    "# Loading"
   ]
  },
  {
   "cell_type": "code",
   "execution_count": 116,
   "metadata": {},
   "outputs": [],
   "source": [
    "store = pd.HDFStore(\"diss_matrices_.h5\")"
   ]
  },
  {
   "cell_type": "code",
   "execution_count": null,
   "metadata": {},
   "outputs": [],
   "source": [
    "%%time\n",
    "D_ = [np.expand_dims(store[matrix].to_numpy(), axis=0) for matrix in store]\n",
    "D_ = np.concatenate(D_,axis=0)\n",
    "print(D_.shape)\n"
   ]
  },
  {
   "cell_type": "code",
   "execution_count": null,
   "metadata": {},
   "outputs": [],
   "source": [
    "store.close()"
   ]
  },
  {
   "cell_type": "code",
   "execution_count": null,
   "metadata": {},
   "outputs": [
    {
     "data": {
      "text/plain": [
       "(3, 20867, 20867)"
      ]
     },
     "execution_count": 5,
     "metadata": {},
     "output_type": "execute_result"
    }
   ],
   "source": [
    "D_.shape"
   ]
  },
  {
   "cell_type": "markdown",
   "metadata": {},
   "source": [
    "# Techiniques"
   ]
  },
  {
   "cell_type": "code",
   "execution_count": null,
   "metadata": {},
   "outputs": [],
   "source": [
    "def select_medoids_dist(D,G):\n",
    "    result = np.stack([D[i,G[i],:] for i in range(D.shape[0])], axis=0 )\n",
    "    return result\n"
   ]
  },
  {
   "cell_type": "code",
   "execution_count": null,
   "metadata": {},
   "outputs": [],
   "source": [
    "def compute_J(G,U,D,A,m=2):\n",
    "    Dt = select_medoids_dist(D,G)\n",
    "    Ut = np.power(U,m)\n",
    "    At  = np.einsum('pk,pkn->kn',A,Dt) \n",
    "    return np.einsum('kn,kn->',At,Ut)"
   ]
  },
  {
   "cell_type": "code",
   "execution_count": null,
   "metadata": {},
   "outputs": [],
   "source": [
    "def search_best_medoids(G,U,D,A,m):\n",
    "\n",
    "    all = []\n",
    "    for p in range (D.shape[0]):\n",
    "        al = []\n",
    "        for k in range(U.shape[0]):\n",
    "            h = np.sum(np.power(U[k],m)*D[p,:,:],axis=1).argmin()\n",
    "            al.append(h)\n",
    "        all.append(al)\n",
    "    \n",
    "    g = np.asarray(all)\n",
    "    \n",
    "    return g\n"
   ]
  },
  {
   "cell_type": "code",
   "execution_count": null,
   "metadata": {},
   "outputs": [],
   "source": [
    "def compute_U_fuzzy_part(G, U, D, A, m):\n",
    "    Dk = select_medoids_dist(D,G)\n",
    "    \n",
    "    term_1  = np.einsum('pk,pkn->kn',A,Dk)\n",
    "    term_2 = term_1\n",
    "    term_1[np.where(term_1 == 0)] = 1\n",
    "\n",
    "\n",
    "    term_1  = np.power(term_1,-1/(m-1))\n",
    "    term_2  = np.power(term_2,-1/(m-1))\n",
    "    term_2  = np.einsum('kn->n',term_2)\n",
    "    Ut = np.divide(term_1, term_2)\n",
    "    return Ut"
   ]
  },
  {
   "cell_type": "code",
   "execution_count": null,
   "metadata": {},
   "outputs": [],
   "source": [
    "def search_best_relev_vec(G,U,D,A,m):\n",
    "    Dt = select_medoids_dist(D,G)\n",
    "\n",
    "    Ut = np.power(U,m)\n",
    "    l = np.einsum('kn,pkn->pk',Ut,Dt)\n",
    "\n",
    "    a  = np.prod(l,axis=0)\n",
    "    a  = np.power(a,(1/(D.shape[0])))\n",
    "    al = np.divide(a,l)\n",
    "    \n",
    "    return al"
   ]
  },
  {
   "cell_type": "markdown",
   "metadata": {},
   "source": [
    "# Experiments"
   ]
  },
  {
   "cell_type": "code",
   "execution_count": null,
   "metadata": {},
   "outputs": [],
   "source": [
    "def mv_algorithm(D, K, m, T, e, seed = 87, verbose=False):\n",
    "\n",
    "    \"\"\"\n",
    "    \n",
    "    \"\"\"\n",
    "\n",
    "    ########## CONSTRAINTS ##############\n",
    "     \n",
    "    assert D.shape[1] == D.shape[2]\n",
    "    assert K > 1 and K < D.shape[1]\n",
    "    assert e > 0 \n",
    "    #assert m > 1\n",
    "    if m <= 1:\n",
    "        m = 1.0001\n",
    "\n",
    "    ######### INITIALIZATION #############\n",
    "\n",
    "    p = D.shape[0]\n",
    "    n = D.shape[1]\n",
    "  \n",
    "    rng        = np.random.default_rng(seed=seed)\n",
    "    G          = np.stack([rng.choice(n,size=(K),replace=False) for _ in range(p)],axis=0)\n",
    "    A          = np.ones(shape=(p,K))\n",
    "    U          = compute_U_fuzzy_part(G,None,D,A,m)\n",
    "   \n",
    "    cur_u  = compute_J(G,U,D,A,m)\n",
    "    last_u = 0\n",
    "\n",
    "    ########## TRAINING LOOP ###############\n",
    "    for t in range(T):\n",
    "        \n",
    "        G = search_best_medoids(G,U,D,A,m)\n",
    "        A = search_best_relev_vec(G,U,D,A,m)\n",
    "        U = compute_U_fuzzy_part(G,U,D,A,m)\n",
    "        \n",
    "        if(verbose):\n",
    "            print(\"Epoch {} ---- \".format(t))\n",
    "            print(\"Cur j = \"+str(cur_u))\n",
    "\n",
    "        last_u = cur_u\n",
    "        cur_u = compute_J(G,U,D,A,m)\n",
    "\n",
    "        if(verbose):\n",
    "            print(\"dif = {}\".format(np.absolute(cur_u-last_u)))\n",
    "            \n",
    "        if np.absolute(cur_u-last_u) < e   or  t => T-1: \n",
    "            print(\"Converged with J = {}\".format(np.absolute(cur_u)))\n",
    "            print(\"dif = {}\".format(np.absolute(cur_u-last_u)))\n",
    "            print('Converged in {} iterations'.format(t+1))\n",
    "            return G,U,D,A, cur_u, (t+1)"
   ]
  },
  {
   "cell_type": "code",
   "execution_count": null,
   "metadata": {},
   "outputs": [],
   "source": [
    "def run_experiments(D_,K=12,T=150,e=1e-10,runs=1):\n",
    "\n",
    "    now = datetime.now()\n",
    "    time = now.strftime(\"%m_%d_%Y, %H_%M:%S\")\n",
    "    output_path = os.path.join(\n",
    "    '../out/log_{}.csv'.format(time))\n",
    "\n",
    "\n",
    "    f = open(output_path, 'w')\n",
    "    f.write(\"seed,m,t,final_j\\n\")\n",
    "\n",
    "    param = dict()\n",
    "    best_model = 9999999\n",
    "    seeds = np.random.randint(0,99999,runs,seed=87)\n",
    "    \n",
    "    \n",
    "    for  seed in seeds:\n",
    "        #m = np.random.lognormal(1.5, 1/16,seed=seed)\n",
    "        m = 1.6\n",
    "        print(\"============================\")\n",
    "        print(\"seed number {}\".format(seed))\n",
    "        print(\"m value {}\".format(m))\n",
    "\n",
    "        G,U,_,A,cur_u,t = mv_algorithm(D_, K, m, T, e, seed)\n",
    "\n",
    "        f.write(\"{},{},{},{}\\n\".format(seed,m,t,cur_u))\n",
    "\n",
    "        if cur_u < best_model:\n",
    "            best_model = cur_u\n",
    "            param['G'] = G\n",
    "            param['U'] = U\n",
    "            param['A'] = A\n",
    "            param['m'] = m\n",
    "            param['ob'] = cur_u\n",
    "            param['t'] = t\n",
    "            \n",
    "    f.close()\n",
    "    return param"
   ]
  },
  {
   "cell_type": "code",
   "execution_count": null,
   "metadata": {},
   "outputs": [],
   "source": [
    "param =  run_experiments(D_,K=12,T=150,e=1e-10,runs=50)\n"
   ]
  },
  {
   "cell_type": "code",
   "execution_count": null,
   "metadata": {},
   "outputs": [],
   "source": [
    "if True:\n",
    "    store = pd.HDFStore(\"best_model_16.h5\")\n",
    "    store['G']  =   pd.DataFrame(param['G'])\n",
    "    store['U']  =   pd.DataFrame(param['U'])\n",
    "    store['A']  =   pd.DataFrame(param['A'])\n",
    "    store['m']  =   pd.DataFrame([param['m']])\n",
    "    store['ob'] =   pd.DataFrame([param['ob']])\n",
    "    store['t']  =   pd.DataFrame([param['t']])\n",
    "    store.close()\n"
   ]
  },
  {
   "cell_type": "markdown",
   "metadata": {},
   "source": [
    "# Análise\n"
   ]
  },
  {
   "cell_type": "code",
   "execution_count": null,
   "metadata": {},
   "outputs": [],
   "source": [
    "import matplotlib.pyplot as plt\n",
    "import collections"
   ]
  },
  {
   "cell_type": "code",
   "execution_count": null,
   "metadata": {},
   "outputs": [
    {
     "name": "stdout",
     "output_type": "stream",
     "text": [
      "Prototipos: \n",
      " [[ 9677  2185  8526]\n",
      " [ 5364 20481 20731]\n",
      " [16169  2185 19808]\n",
      " [16169  2185 19808]\n",
      " [14210  2185 19808]\n",
      " [ 9677  2185 19808]\n",
      " [16169  2185 19808]\n",
      " [16169  9503 19808]\n",
      " [16169  2185 19808]\n",
      " [16169  9503 19808]\n",
      " [14210  5462  8447]\n",
      " [16169  2185 19808]]\n",
      "Pesos de relevancia: \n",
      " [[1.0008275  1.00001178 0.99916141]\n",
      " [0.99926379 1.00213681 0.99860293]\n",
      " [1.00121984 0.99948786 0.99929342]\n",
      " [1.00121988 0.99948782 0.99929342]\n",
      " [0.9975696  1.00259767 0.99983906]\n",
      " [1.00030795 1.00027596 0.99941634]\n",
      " [1.00122043 0.99948734 0.99929335]\n",
      " [1.00293616 0.99784089 0.99922989]\n",
      " [1.00121985 0.99948785 0.99929342]\n",
      " [1.00293604 0.99784098 0.99922991]\n",
      " [0.99963825 1.00219501 0.99817088]\n",
      " [1.00121987 0.99948784 0.99929342]]\n"
     ]
    }
   ],
   "source": [
    "store = pd.HDFStore(\"best_model_16.h5\")\n",
    "\n",
    "G = np.asarray(store['G']).T\n",
    "A_ = (np.asarray(store['A']))\n",
    "U  = np.asanyarray(store['U'])\n",
    "A = A_.argmax(axis=0)\n",
    "store.close()\n",
    "\n",
    "print(\"Prototipos: \\n {}\".format(G))\n",
    "print(\"Pesos de relevancia: \\n {}\".format(A_.T))\n",
    "\n",
    "#### MAPEANDO CADA ITEM PARA UM CLUSTER ###\n",
    "cluster = (((np.asarray(U).argmax(axis=0))))\n"
   ]
  },
  {
   "cell_type": "code",
   "execution_count": null,
   "metadata": {},
   "outputs": [
    {
     "data": {
      "image/png": "[encoded data removed]",
      "text/plain": [
       "<Figure size 432x288 with 1 Axes>"
      ]
     },
     "metadata": {
      "needs_background": "light"
     },
     "output_type": "display_data"
    },
    {
     "name": "stdout",
     "output_type": "stream",
     "text": [
      "Counter({10: 4953, 1: 4309, 0: 4302, 4: 2583, 7: 1406, 6: 1150, 5: 1014, 9: 932, 2: 218})\n"
     ]
    }
   ],
   "source": [
    "\n",
    "dist = collections.Counter(cluster)\n",
    "plt.bar(dist.keys(), dist.values())\n",
    "plt.show()\n",
    "print(dist)"
   ]
  },
  {
   "cell_type": "code",
   "execution_count": null,
   "metadata": {},
   "outputs": [],
   "source": [
    "input_path = os.path.join(\n",
    "    '../data/generated', 'avila-combined.csv')\n",
    "\n",
    "data = pd.read_csv(input_path)['10'] \n",
    "labels_gt = data.values.tolist()"
   ]
  },
  {
   "cell_type": "markdown",
   "metadata": {},
   "source": [
    "## Calculo de métricas e display"
   ]
  },
  {
   "cell_type": "code",
   "execution_count": null,
   "metadata": {},
   "outputs": [],
   "source": [
    "\n",
    "\n",
    "def compute_metrics(labels_gt,labels_pred):\n",
    "    from sklearn.metrics import rand_score\n",
    "    from sklearn.metrics import f1_score    \n",
    "\n",
    "    def pc(U):\n",
    "        \"\"\"\n",
    "        Returns the Partition Coefficient of the given clusters\n",
    "\n",
    "            Parameters:\n",
    "                U (np.ndarray): A n-dimensional vector of membership degree vectors (n x k)\n",
    "\n",
    "            Returns:\n",
    "                part_coeff (float): The Partition Coefficient\n",
    "        \"\"\"\n",
    "\n",
    "        part_coeff = 0\n",
    "\n",
    "        for ui in U:\n",
    "            part_coeff += sum([uik**2 for uik in ui])\n",
    "\n",
    "        N = U.shape[0]\n",
    "        part_coeff /= N\n",
    "\n",
    "        return part_coeff\n",
    "\n",
    "\n",
    "    def mpc(U):\n",
    "        \"\"\"\n",
    "        Returns the Modified Partition Coefficient of the given clusters\n",
    "\n",
    "            Parameters:\n",
    "                U (np.ndarray): A n-dimensional vector of membership degree vectors\n",
    "\n",
    "            Returns:\n",
    "                m_part_coeff (float): The Modified Partition Coefficient\n",
    "        \"\"\"\n",
    "\n",
    "        part_coeff = pc(U)\n",
    "\n",
    "        K = U.shape[1]\n",
    "\n",
    "        m_part_coeff = 1 - (K / (K - 1)) * (1 - part_coeff)\n",
    "\n",
    "        return m_part_coeff\n",
    "\n",
    "\n",
    "    def pe(U):\n",
    "        \"\"\"\n",
    "        Returns the Partition Entropy of the given clusters\n",
    "\n",
    "            Parameters:\n",
    "                U (np.ndarray): A n-dimensional vector of membership degree vectors\n",
    "\n",
    "            Returns:\n",
    "                part_entropy (float): The Partition Entropy\n",
    "        \"\"\"\n",
    "\n",
    "        part_entropy = 0\n",
    "        for ui in U:\n",
    "            part_entropy += sum([uik * np.log(uik) for uik in ui])\n",
    "\n",
    "        N = U.shape[0]\n",
    "        part_entropy /= -N\n",
    "\n",
    "        return part_entropy\n",
    "\n",
    "    rd = rand_score(labels_gt,labels_pred)\n",
    "    f1 = f1_score(labels_gt,labels_pred,average='macro')\n",
    "    mpc_ = mpc(U.T)\n",
    "    pe_ = pe(U.T)\n",
    "\n",
    "    print(\"MPC = {}\".format(mpc_))\n",
    "    print(\"PE = {}\".format(pe_))\n",
    "    print(\"Rand Score = {}\".format(rd))\n",
    "    print(\"F measure = {}\".format(f1))\n",
    "\n",
    "\n"
   ]
  },
  {
   "cell_type": "code",
   "execution_count": null,
   "metadata": {},
   "outputs": [],
   "source": [
    "from sklearn.metrics import confusion_matrix, ConfusionMatrixDisplay\n",
    "import matplotlib.pyplot as plt\n",
    "\n",
    "def compute_and_display(labels_gt,labels_pred):\n",
    "    labels_gt_ = ['A','B','C','D','E','F','G','H','I','X','Y','W']\n",
    "    compute_metrics(labels_gt,labels_pred)\n",
    "    cm = confusion_matrix(labels_gt, labels_pred)\n",
    "    disp = ConfusionMatrixDisplay(confusion_matrix=cm,display_labels=labels_gt_)\n",
    "    disp.plot()\n",
    "    plt.show()\n",
    "\n"
   ]
  },
  {
   "cell_type": "markdown",
   "metadata": {},
   "source": [
    "### Partição Crisp que contenha todas as classes"
   ]
  },
  {
   "cell_type": "code",
   "execution_count": null,
   "metadata": {},
   "outputs": [],
   "source": [
    "def crisp_all_classes(G,A,data,cluster,U):\n",
    "    def all_classes(U, y):\n",
    "        y = np.asarray(y)\n",
    "        classes = np.unique(y.ravel())\n",
    "        classes_to_groups = {}\n",
    "        for c in classes:\n",
    "            groups_to_class_representativeness = {g: np.sum(U[(np.array(y.ravel()) == c), g], axis=0) for g in range(U.shape[1]) if g not in classes_to_groups.values()}\n",
    "            classes_to_groups[c] = max(groups_to_class_representativeness.keys(), key=lambda k: groups_to_class_representativeness[k])\n",
    "        return {v: k for k, v in classes_to_groups.items()}\n",
    "        \n",
    "    data_list = all_classes(U.T,data)\n",
    "    labels_pred = [data_list[idx] for idx in cluster ]\n",
    "    return labels_pred\n",
    "    "
   ]
  },
  {
   "cell_type": "code",
   "execution_count": null,
   "metadata": {},
   "outputs": [
    {
     "name": "stdout",
     "output_type": "stream",
     "text": [
      "MPC = 0.000151762650465459\n",
      "PE = 2.484069545039699\n",
      "Rand Score = 0.6825762957265219\n",
      "F measure = 0.0525654038005741\n"
     ]
    },
    {
     "data": {
      "image/png": "[encoded data removed]",
      "text/plain": [
       "<Figure size 432x288 with 2 Axes>"
      ]
     },
     "metadata": {
      "needs_background": "light"
     },
     "output_type": "display_data"
    }
   ],
   "source": [
    "labels_pred = crisp_all_classes(G,A,data,cluster,U)\n",
    "compute_and_display(labels_gt,labels_pred)"
   ]
  },
  {
   "cell_type": "markdown",
   "metadata": {},
   "source": [
    "### Partição Crisp Usando Voto Majoritário como critério"
   ]
  },
  {
   "cell_type": "code",
   "execution_count": null,
   "metadata": {},
   "outputs": [],
   "source": [
    "def crisp_by_vote(G,A,data,cluster):\n",
    "    from collections import Counter\n",
    " \n",
    "    def most_frequent(List):\n",
    "        occurence_count = Counter(List)\n",
    "        return occurence_count.most_common(1)[0][0]\n",
    "\n",
    "    data_list = []    \n",
    "    ##### MAPEANDO O PROTOTIPO PARA LABEL ###\n",
    "    for g in G:\n",
    "        data_list.append([data.iloc[p] for p in g ])\n",
    "\n",
    "    \n",
    "    ### MAPEANDO PARA LABEL ###\n",
    "    labels_pred = [data_list[idx] for idx in cluster ]\n",
    "    labels_pred = [most_frequent(x) for x in labels_pred]\n",
    "\n",
    "    return labels_pred"
   ]
  },
  {
   "cell_type": "code",
   "execution_count": null,
   "metadata": {},
   "outputs": [
    {
     "name": "stdout",
     "output_type": "stream",
     "text": [
      "MPC = 0.000151762650465459\n",
      "PE = 2.484069545039699\n",
      "Rand Score = 0.4240054189558017\n",
      "F measure = 0.06833682537877865\n"
     ]
    },
    {
     "data": {
      "image/png": "[encoded data removed]",
      "text/plain": [
       "<Figure size 432x288 with 2 Axes>"
      ]
     },
     "metadata": {
      "needs_background": "light"
     },
     "output_type": "display_data"
    }
   ],
   "source": [
    "labels_pred = crisp_by_vote(G,A,data,cluster)\n",
    "compute_and_display(labels_gt,labels_pred)"
   ]
  },
  {
   "cell_type": "markdown",
   "metadata": {},
   "source": [
    "### Partição Crisp Usando Lambda como critério"
   ]
  },
  {
   "cell_type": "code",
   "execution_count": null,
   "metadata": {},
   "outputs": [],
   "source": [
    "def crisp_by_lambda(G,A,data,cluster):\n",
    "    data_dict = dict()\n",
    "    z  = []\n",
    "    \n",
    "    ##  SELECIONANDO O ELEMENTO REPRESENTATIVO DE CADA CLASSE #### \n",
    "    for i,index in enumerate(A):\n",
    "        z.append(G[i][A[i]])\n",
    "    z = np.asarray(z)\n",
    "\n",
    "    ##### MAPEANDO O PROTOTIPO PARA LABEL ###\n",
    "    for idx in range(len(z)):\n",
    "        data_dict[idx] = data.iloc[z[idx]]\n",
    "\n",
    "    \n",
    "    ### MAPEANDO PARA LABEL ###\n",
    "    labels_pred = [data_dict[idx] for idx in cluster ]\n",
    "\n",
    "    return labels_pred\n"
   ]
  },
  {
   "cell_type": "code",
   "execution_count": null,
   "metadata": {},
   "outputs": [
    {
     "name": "stdout",
     "output_type": "stream",
     "text": [
      "MPC = 0.000151762650465459\n",
      "PE = 2.484069545039699\n",
      "Rand Score = 0.4985521375029121\n",
      "F measure = 0.06890185507101272\n"
     ]
    },
    {
     "data": {
      "image/png": "[encoded data removed]",
      "text/plain": [
       "<Figure size 432x288 with 2 Axes>"
      ]
     },
     "metadata": {
      "needs_background": "light"
     },
     "output_type": "display_data"
    }
   ],
   "source": [
    "labels_pred = crisp_by_lambda(G,A,data,cluster)\n",
    "compute_and_display(labels_gt,labels_pred)\n"
   ]
  }
 ],
 "metadata": {
  "interpreter": {
   "hash": "1cd7a76e48312c74ed59032ef7741bdd12dc3149840c88306086948f5eadd218"
  },
  "kernelspec": {
   "display_name": "Python 3",
   "language": "python",
   "name": "python3"
  },
  "language_info": {
   "codemirror_mode": {
    "name": "ipython",
    "version": 3
   },
   "file_extension": ".py",
   "mimetype": "text/x-python",
   "name": "python",
   "nbconvert_exporter": "python",
   "pygments_lexer": "ipython3",
   "version": "3.10.4"
  }
 },
 "nbformat": 4,
 "nbformat_minor": 2
}
